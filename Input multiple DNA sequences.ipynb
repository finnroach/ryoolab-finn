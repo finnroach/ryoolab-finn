{
 "cells": [
  {
   "cell_type": "code",
   "execution_count": null,
   "metadata": {},
   "outputs": [],
   "source": [
    "## imports the table of genes\n",
    "import numpy as np\n",
    "import pandas as pd\n",
    "dna_sequences = pd.read_csv('selectedgenes.csv', delimiter=',')\n",
    "dna_sequences"
   ]
  },
  {
   "cell_type": "code",
   "execution_count": null,
   "metadata": {},
   "outputs": [],
   "source": [
    "## choses dictionary with pfm for code \n",
    "print('Input transcription factor name')\n",
    "factor = input()\n",
    "if factor.upper() == 'ATF4':\n",
    "    profile = {'A': [210, 169, 639, 0, 19, 888, 2, 1, 40, 879, 888, 0, 414], 'C': [71, 117, 202, 0, 0, 0, 372, 0, 838, 21, 3, 266, 272], 'G': [442, 409, 127, 7, 1090, 0, 9, 1104, 16, 0, 1, 62, 101], 'T': [170, 213, 3, 981, 11, 25, 470, 4, 113, 3, 4, 714, 78]}\n",
    "elif factor.upper() == 'XBP1':\n",
    "    profile = {'A': [4396, 3270, 1104, 974, 3699, 167, 7840, 9, 52, 0, 380, 8004, 230, 989], 'C': [558, 1017, 1191, 367, 3809, 7169, 17, 7356, 0, 16, 7264, 48, 2273, 6313], 'G': [801, 2413, 2669, 9168, 59, 222, 276, 2, 11353, 8, 47, 173, 3157, 1217], 'T': [2467, 1780, 3999, 2321, 247, 442, 118, 10, 10, 9107, 35, 92, 6389, 1250]}\n",
    "## elif factor.upper() =='ATF6':\n",
    "    ## profile = {'A': [], 'C': [], 'G': [], 'T': []}\n",
    "    ## cannot find transcription factor\n",
    "## allows user to input transcription factor \n",
    "else:\n",
    "    print('Enter position frequency matrix scores for A in the format 3 4 5:')\n",
    "    item1 = [int(x) for x in input().split()]\n",
    "    print('Enter position frequency matrix scores for C in the format 3 4 5:')\n",
    "    item2 = [int(x) for x in input().split()]\n",
    "    print('Enter position frequency matrix scores for G in the format 3 4 5:')\n",
    "    item3 = [int(x) for x in input().split()]\n",
    "    print('Enter position frequency matrix scores for T in the format 3 4 5:')\n",
    "    item4 = [int(x) for x in input().split()]\n",
    "    profile = {'A':item1, 'C': item2, 'G': item3, 'T': item4}"
   ]
  },
  {
   "cell_type": "code",
   "execution_count": null,
   "metadata": {
    "scrolled": false,
    "slideshow": {
     "slide_type": "-"
    }
   },
   "outputs": [],
   "source": [
    "from colorama import Fore\n",
    "from colorama import Style\n",
    "print(Fore.YELLOW + '\\033[5m' + 'RESULTS' + '\\n' + '\\n' + '\\n')\n",
    "## goes through DNA sequences in data frame and analyzes each\n",
    "for i in range(len(dna_sequences.introns)):\n",
    "    DNA = dna_sequences.introns[i].lower()\n",
    "    print(Fore.BLUE + '\\033[5m' + 'Gene: ', dna_sequences.gene[i])\n",
    "    ## reads DNA sequence, creates scores for each\n",
    "    def transcription_factor (seq, profile):\n",
    "        width = len(profile['T'])\n",
    "        bindingscore = []\n",
    "        for i in range(len(seq)-width):\n",
    "            score = 0\n",
    "            for j in range(width):\n",
    "                letter = seq[i+j]\n",
    "                score += profile [letter][j]\n",
    "            bindingscore.append (score)\n",
    "        return bindingscore\n",
    "    ## plots top binding scores\n",
    "    upperseq = DNA.upper()\n",
    "    bindingscores = transcription_factor(upperseq, profile)\n",
    "    from matplotlib import pyplot\n",
    "    max_binding_list = []\n",
    "    for i in range(len(profile['A'])):\n",
    "        my_list = []\n",
    "        my_list.append(profile['A'][i])\n",
    "        my_list.append(profile['C'][i])\n",
    "        my_list.append(profile['G'][i])\n",
    "        my_list.append(profile['T'][i])\n",
    "        max_binding_list.append(max(my_list))\n",
    "    pyplot.plot (bindingscores)\n",
    "    max_score = sum(max_binding_list)\n",
    "    pyplot.ylim (0.60 * max_score, max_score)\n",
    "    pyplot.show()\n",
    "    import re\n",
    "    sites = []\n",
    "    ## presents binding site information \n",
    "    for i in range (len(bindingscores)):\n",
    "        if bindingscores[i] > 0.60 * max_score: \n",
    "            sequence = DNA[i:i + len(item1)]\n",
    "            pair = sequence.upper() + ': ' + str(bindingscores[i])\n",
    "            print(pair)\n",
    "            sites.append(sequence)\n",
    "            for i in range (len(sites)):\n",
    "                visual = re.sub(sites[i], Fore.RED + '\\033[1m' + sites[i].upper () +  '\\033[0m' + Style.RESET_ALL, DNA)\n",
    "            print('\\n', visual, '\\n')\n"
   ]
  }
 ],
 "metadata": {
  "kernelspec": {
   "display_name": "Python 3",
   "language": "python",
   "name": "python3"
  },
  "language_info": {
   "codemirror_mode": {
    "name": "ipython",
    "version": 3
   },
   "file_extension": ".py",
   "mimetype": "text/x-python",
   "name": "python",
   "nbconvert_exporter": "python",
   "pygments_lexer": "ipython3",
   "version": "3.7.3"
  }
 },
 "nbformat": 4,
 "nbformat_minor": 2
}
