{
 "cells": [
  {
   "cell_type": "code",
   "execution_count": 55,
   "metadata": {},
   "outputs": [
    {
     "data": {
      "text/html": [
       "<div>\n",
       "<style scoped>\n",
       "    .dataframe tbody tr th:only-of-type {\n",
       "        vertical-align: middle;\n",
       "    }\n",
       "\n",
       "    .dataframe tbody tr th {\n",
       "        vertical-align: top;\n",
       "    }\n",
       "\n",
       "    .dataframe thead th {\n",
       "        text-align: right;\n",
       "    }\n",
       "</style>\n",
       "<table border=\"1\" class=\"dataframe\">\n",
       "  <thead>\n",
       "    <tr style=\"text-align: right;\">\n",
       "      <th></th>\n",
       "      <th>gene</th>\n",
       "      <th>baseMean</th>\n",
       "      <th>log2FC</th>\n",
       "      <th>log2FCunshrunk</th>\n",
       "      <th>pvalue</th>\n",
       "      <th>padj</th>\n",
       "      <th>logpv</th>\n",
       "      <th>significance</th>\n",
       "      <th>introns</th>\n",
       "    </tr>\n",
       "  </thead>\n",
       "  <tbody>\n",
       "    <tr>\n",
       "      <th>0</th>\n",
       "      <td>ninaE</td>\n",
       "      <td>87351.6</td>\n",
       "      <td>-0.71</td>\n",
       "      <td>-0.85</td>\n",
       "      <td>4.684020e-04</td>\n",
       "      <td>0.029429</td>\n",
       "      <td>3.329381</td>\n",
       "      <td>y</td>\n",
       "      <td>GTGAGTCCTTGAAATGGTAAACCTTCTGGGAACCCATTTTTTAAAA...</td>\n",
       "    </tr>\n",
       "    <tr>\n",
       "      <th>1</th>\n",
       "      <td>ninaG</td>\n",
       "      <td>221.0</td>\n",
       "      <td>-1.17</td>\n",
       "      <td>-1.76</td>\n",
       "      <td>6.878190e-06</td>\n",
       "      <td>0.001263</td>\n",
       "      <td>5.162526</td>\n",
       "      <td>y</td>\n",
       "      <td>GTAAGAAGAGAGCTAATCCTCTGCGCTGGCGCTTACCAAACTCCTCAG</td>\n",
       "    </tr>\n",
       "    <tr>\n",
       "      <th>2</th>\n",
       "      <td>Hsc70-3</td>\n",
       "      <td>6189.1</td>\n",
       "      <td>-0.86</td>\n",
       "      <td>-0.94</td>\n",
       "      <td>6.134050e-08</td>\n",
       "      <td>0.000024</td>\n",
       "      <td>7.212253</td>\n",
       "      <td>y</td>\n",
       "      <td>GTAAGTTAGATATGCTCGTCCTTCGGCTCTAAAACCCATTAATGCT...</td>\n",
       "    </tr>\n",
       "    <tr>\n",
       "      <th>3</th>\n",
       "      <td>dnr1</td>\n",
       "      <td>9011.6</td>\n",
       "      <td>-1.03</td>\n",
       "      <td>-1.16</td>\n",
       "      <td>5.530670e-09</td>\n",
       "      <td>0.000003</td>\n",
       "      <td>8.257222</td>\n",
       "      <td>y</td>\n",
       "      <td>GTGAGTTGTCTCTGCAGCCTTGTGCTCCCATTGAATCCTTACTAAC...</td>\n",
       "    </tr>\n",
       "    <tr>\n",
       "      <th>4</th>\n",
       "      <td>Cnx99A</td>\n",
       "      <td>3644.3</td>\n",
       "      <td>-1.23</td>\n",
       "      <td>-1.51</td>\n",
       "      <td>1.282870e-08</td>\n",
       "      <td>0.000006</td>\n",
       "      <td>7.891817</td>\n",
       "      <td>y</td>\n",
       "      <td>GTAATGATGCTCGAGCTTTCACTTGAGATCTTCATAAGGAATTTAC...</td>\n",
       "    </tr>\n",
       "  </tbody>\n",
       "</table>\n",
       "</div>"
      ],
      "text/plain": [
       "      gene  baseMean  log2FC  log2FCunshrunk        pvalue      padj  \\\n",
       "0    ninaE   87351.6   -0.71           -0.85  4.684020e-04  0.029429   \n",
       "1    ninaG     221.0   -1.17           -1.76  6.878190e-06  0.001263   \n",
       "2  Hsc70-3    6189.1   -0.86           -0.94  6.134050e-08  0.000024   \n",
       "3     dnr1    9011.6   -1.03           -1.16  5.530670e-09  0.000003   \n",
       "4   Cnx99A    3644.3   -1.23           -1.51  1.282870e-08  0.000006   \n",
       "\n",
       "      logpv significance                                            introns  \n",
       "0  3.329381            y  GTGAGTCCTTGAAATGGTAAACCTTCTGGGAACCCATTTTTTAAAA...  \n",
       "1  5.162526            y   GTAAGAAGAGAGCTAATCCTCTGCGCTGGCGCTTACCAAACTCCTCAG  \n",
       "2  7.212253            y  GTAAGTTAGATATGCTCGTCCTTCGGCTCTAAAACCCATTAATGCT...  \n",
       "3  8.257222            y  GTGAGTTGTCTCTGCAGCCTTGTGCTCCCATTGAATCCTTACTAAC...  \n",
       "4  7.891817            y  GTAATGATGCTCGAGCTTTCACTTGAGATCTTCATAAGGAATTTAC...  "
      ]
     },
     "execution_count": 55,
     "metadata": {},
     "output_type": "execute_result"
    }
   ],
   "source": [
    "## imports the table of genes\n",
    "import numpy as np\n",
    "import pandas as pd\n",
    "dna_sequences = pd.read_csv('selectedgenes.csv', delimiter=',')\n",
    "dna_sequences"
   ]
  },
  {
   "cell_type": "code",
   "execution_count": 56,
   "metadata": {},
   "outputs": [
    {
     "name": "stdout",
     "output_type": "stream",
     "text": [
      "Input transcription factor name\n",
      "xbp1\n"
     ]
    }
   ],
   "source": [
    "## choses dictionary with pfm for code \n",
    "print('Input transcription factor name')\n",
    "factor = input()\n",
    "if factor.upper() == 'ATF4':\n",
    "    profile = {'A': [210, 169, 639, 0, 19, 888, 2, 1, 40, 879, 888, 0, 414], 'C': [71, 117, 202, 0, 0, 0, 372, 0, 838, 21, 3, 266, 272], 'G': [442, 409, 127, 7, 1090, 0, 9, 1104, 16, 0, 1, 62, 101], 'T': [170, 213, 3, 981, 11, 25, 470, 4, 113, 3, 4, 714, 78]}\n",
    "elif factor.upper() == 'XBP1':\n",
    "    profile = {'A': [4396, 3270, 1104, 974, 3699, 167, 7840, 9, 52, 0, 380, 8004, 230, 989], 'C': [558, 1017, 1191, 367, 3809, 7169, 17, 7356, 0, 16, 7264, 48, 2273, 6313], 'G': [801, 2413, 2669, 9168, 59, 222, 276, 2, 11353, 8, 47, 173, 3157, 1217], 'T': [2467, 1780, 3999, 2321, 247, 442, 118, 10, 10, 9107, 35, 92, 6389, 1250]}\n",
    "## elif factor.upper() =='ATF6':\n",
    "    ## profile = {'A': [], 'C': [], 'G': [], 'T': []}\n",
    "    ## cannot find transcription factor\n",
    "## allows user to input transcription factor \n",
    "else:\n",
    "    print('Enter position frequency matrix scores for A in the format 3 4 5:')\n",
    "    item1 = [int(x) for x in input().split()]\n",
    "    print('Enter position frequency matrix scores for C in the format 3 4 5:')\n",
    "    item2 = [int(x) for x in input().split()]\n",
    "    print('Enter position frequency matrix scores for G in the format 3 4 5:')\n",
    "    item3 = [int(x) for x in input().split()]\n",
    "    print('Enter position frequency matrix scores for T in the format 3 4 5:')\n",
    "    item4 = [int(x) for x in input().split()]\n",
    "    profile = {'A':item1, 'C': item2, 'G': item3, 'T': item4}"
   ]
  },
  {
   "cell_type": "code",
   "execution_count": 57,
   "metadata": {
    "scrolled": false,
    "slideshow": {
     "slide_type": "-"
    }
   },
   "outputs": [
    {
     "name": "stdout",
     "output_type": "stream",
     "text": [
      "\u001b[33m\u001b[5mRESULTS\n",
      "\n",
      "\n",
      "\n",
      "\u001b[34m\u001b[5mGene:  ninaE\n"
     ]
    },
    {
     "data": {
      "image/png": "[encoded data removed]",
      "text/plain": [
       "<Figure size 432x288 with 1 Axes>"
      ]
     },
     "metadata": {
      "needs_background": "light"
     },
     "output_type": "display_data"
    },
    {
     "name": "stdout",
     "output_type": "stream",
     "text": [
      "ATT: 58076\n",
      "\n",
      " gtgagtccttgaaatggtaaaccttctgggaaccc\u001b[31m\u001b[1mATT\u001b[0m\u001b[0mttttaaaaaatgatcaaagctactatatacaaatgtttaaaaacttaa\u001b[31m\u001b[1mATT\u001b[0m\u001b[0macaaacaaaaggtttacaa\u001b[31m\u001b[1mATT\u001b[0m\u001b[0maca\u001b[31m\u001b[1mATT\u001b[0m\u001b[0mgt\u001b[31m\u001b[1mATT\u001b[0m\u001b[0maat\u001b[31m\u001b[1mATT\u001b[0m\u001b[0m\u001b[31m\u001b[1mATT\u001b[0m\u001b[0maccacctaac\u001b[31m\u001b[1mATT\u001b[0m\u001b[0matcctataaatatat\u001b[31m\u001b[1mATT\u001b[0m\u001b[0mcttaatctaaaag \n",
      "\n",
      "\u001b[34m\u001b[5mGene:  ninaG\n"
     ]
    },
    {
     "data": {
      "image/png": "[encoded data removed]",
      "text/plain": [
       "<Figure size 432x288 with 1 Axes>"
      ]
     },
     "metadata": {
      "needs_background": "light"
     },
     "output_type": "display_data"
    },
    {
     "name": "stdout",
     "output_type": "stream",
     "text": [
      "\u001b[34m\u001b[5mGene:  Hsc70-3\n"
     ]
    },
    {
     "data": {
      "image/png": "[encoded data removed]",
      "text/plain": [
       "<Figure size 432x288 with 1 Axes>"
      ]
     },
     "metadata": {
      "needs_background": "light"
     },
     "output_type": "display_data"
    },
    {
     "name": "stdout",
     "output_type": "stream",
     "text": [
      "ATA: 59714\n",
      "\n",
      " gtaagttag\u001b[31m\u001b[1mATA\u001b[0m\u001b[0mtgctcgtccttcggctctaaaacccattaatgcttacttgag\u001b[31m\u001b[1mATA\u001b[0m\u001b[0mtcttgatc\u001b[31m\u001b[1mATA\u001b[0m\u001b[0maagt\u001b[31m\u001b[1mATA\u001b[0m\u001b[0mcagtggtc\u001b[31m\u001b[1mATA\u001b[0m\u001b[0maattctactgttgattttcgta\u001b[31m\u001b[1mATA\u001b[0m\u001b[0mccaagtttttatgctttagacgtgtacatttcaaattgatcacattt\u001b[31m\u001b[1mATA\u001b[0m\u001b[0macaaa\u001b[31m\u001b[1mATA\u001b[0m\u001b[0mtttgtaaagtagatttgaccttaaa\u001b[31m\u001b[1mATA\u001b[0m\u001b[0macgtaaaaagaatgt\u001b[31m\u001b[1mATA\u001b[0m\u001b[0magattttacttcttaaaaa\u001b[31m\u001b[1mATA\u001b[0m\u001b[0mggtgactttatct\u001b[31m\u001b[1mATA\u001b[0m\u001b[0mctccc\u001b[31m\u001b[1mATA\u001b[0m\u001b[0mcttgtaattttagctgacacacttccacgtgcgcatt\u001b[31m\u001b[1mATA\u001b[0m\u001b[0m\u001b[31m\u001b[1mATA\u001b[0m\u001b[0magaaatttttgctgtagttaagcgcctcaaattcaagtttatcagtactcaacttgtag\u001b[31m\u001b[1mATA\u001b[0m\u001b[0mggtatctctaccactgctttcatttacgattcgttattaatctaa\u001b[31m\u001b[1mATA\u001b[0m\u001b[0mtttcttacccaaattctcttacag \n",
      "\n",
      "AAT: 59692\n",
      "\n",
      " gtaagttagatatgctcgtccttcggctctaaaacccatt\u001b[31m\u001b[1mAAT\u001b[0m\u001b[0mgcttacttgagatatcttgatcataaagtatacagtggtcata\u001b[31m\u001b[1mAAT\u001b[0m\u001b[0mtctactgttgattttcgt\u001b[31m\u001b[1mAAT\u001b[0m\u001b[0maccaagtttttatgctttagacgtgtacatttca\u001b[31m\u001b[1mAAT\u001b[0m\u001b[0mtgatcacatttataacaa\u001b[31m\u001b[1mAAT\u001b[0m\u001b[0matttgtaaagtagatttgaccttaa\u001b[31m\u001b[1mAAT\u001b[0m\u001b[0maacgtaaaaag\u001b[31m\u001b[1mAAT\u001b[0m\u001b[0mgtataagattttacttcttaaaa\u001b[31m\u001b[1mAAT\u001b[0m\u001b[0maggtgactttatctatactcccatacttgt\u001b[31m\u001b[1mAAT\u001b[0m\u001b[0mtttagctgacacacttccacgtgcgcattat\u001b[31m\u001b[1mAAT\u001b[0m\u001b[0maaga\u001b[31m\u001b[1mAAT\u001b[0m\u001b[0mttttgctgtagttaagcgcctca\u001b[31m\u001b[1mAAT\u001b[0m\u001b[0mtcaagtttatcagtactcaacttgtagataggtatctctaccactgctttcatttacgattcgttatt\u001b[31m\u001b[1mAAT\u001b[0m\u001b[0mcta\u001b[31m\u001b[1mAAT\u001b[0m\u001b[0matttcttaccca\u001b[31m\u001b[1mAAT\u001b[0m\u001b[0mtctcttacag \n",
      "\n",
      "TAG: 63097\n",
      "\n",
      " gtaagt\u001b[31m\u001b[1mTAG\u001b[0m\u001b[0matatgctcgtccttcggctctaaaacccattaatgcttacttgagatatcttgatcataaagtatacagtggtcataaattctactgttgattttcgtaataccaagtttttatgctt\u001b[31m\u001b[1mTAG\u001b[0m\u001b[0macgtgtacatttcaaattgatcacatttataacaaaatatttgtaaag\u001b[31m\u001b[1mTAG\u001b[0m\u001b[0matttgaccttaaaataacgtaaaaagaatgtataagattttacttcttaaaaaa\u001b[31m\u001b[1mTAG\u001b[0m\u001b[0mgtgactttatctatactcccatacttgtaattt\u001b[31m\u001b[1mTAG\u001b[0m\u001b[0mctgacacacttccacgtgcgcattataataagaaatttttgctg\u001b[31m\u001b[1mTAG\u001b[0m\u001b[0mttaagcgcctcaaattcaagtttatcagtactcaacttg\u001b[31m\u001b[1mTAG\u001b[0m\u001b[0ma\u001b[31m\u001b[1mTAG\u001b[0m\u001b[0mgtatctctaccactgctttcatttacgattcgttattaatctaaatatttcttacccaaattctcttacag \n",
      "\n",
      "ACT: 67932\n",
      "\n",
      " gtaagttagatatgctcgtccttcggctctaaaacccattaatgctt\u001b[31m\u001b[1mACT\u001b[0m\u001b[0mtgagatatcttgatcataaagtatacagtggtcataaattct\u001b[31m\u001b[1mACT\u001b[0m\u001b[0mgttgattttcgtaataccaagtttttatgctttagacgtgtacatttcaaattgatcacatttataacaaaatatttgtaaagtagatttgaccttaaaataacgtaaaaagaatgtataagatttt\u001b[31m\u001b[1mACT\u001b[0m\u001b[0mtcttaaaaaataggtg\u001b[31m\u001b[1mACT\u001b[0m\u001b[0mttatctat\u001b[31m\u001b[1mACT\u001b[0m\u001b[0mcccat\u001b[31m\u001b[1mACT\u001b[0m\u001b[0mtgtaattttagctgacac\u001b[31m\u001b[1mACT\u001b[0m\u001b[0mtccacgtgcgcattataataagaaatttttgctgtagttaagcgcctcaaattcaagtttatcagt\u001b[31m\u001b[1mACT\u001b[0m\u001b[0mca\u001b[31m\u001b[1mACT\u001b[0m\u001b[0mtgtagataggtatctctacc\u001b[31m\u001b[1mACT\u001b[0m\u001b[0mgctttcatttacgattcgttattaatctaaatatttcttacccaaattctcttacag \n",
      "\n",
      "TAC: 63849\n",
      "\n",
      " gtaagttagatatgctcgtccttcggctctaaaacccattaatgct\u001b[31m\u001b[1mTAC\u001b[0m\u001b[0mttgagatatcttgatcataaagta\u001b[31m\u001b[1mTAC\u001b[0m\u001b[0magtggtcataaattc\u001b[31m\u001b[1mTAC\u001b[0m\u001b[0mtgttgattttcgtaa\u001b[31m\u001b[1mTAC\u001b[0m\u001b[0mcaagtttttatgctttagacgtg\u001b[31m\u001b[1mTAC\u001b[0m\u001b[0matttcaaattgatcacatttataacaaaatatttgtaaagtagatttgaccttaaaataacgtaaaaagaatgtataagattt\u001b[31m\u001b[1mTAC\u001b[0m\u001b[0mttcttaaaaaataggtgactttatcta\u001b[31m\u001b[1mTAC\u001b[0m\u001b[0mtccca\u001b[31m\u001b[1mTAC\u001b[0m\u001b[0mttgtaattttagctgacacacttccacgtgcgcattataataagaaatttttgctgtagttaagcgcctcaaattcaagtttatcag\u001b[31m\u001b[1mTAC\u001b[0m\u001b[0mtcaacttgtagataggtatctc\u001b[31m\u001b[1mTAC\u001b[0m\u001b[0mcactgctttcatt\u001b[31m\u001b[1mTAC\u001b[0m\u001b[0mgattcgttattaatctaaatatttct\u001b[31m\u001b[1mTAC\u001b[0m\u001b[0mccaaattctct\u001b[31m\u001b[1mTAC\u001b[0m\u001b[0mag \n",
      "\n",
      "\u001b[34m\u001b[5mGene:  dnr1\n"
     ]
    },
    {
     "data": {
      "image/png": "[encoded data removed]",
      "text/plain": [
       "<Figure size 432x288 with 1 Axes>"
      ]
     },
     "metadata": {
      "needs_background": "light"
     },
     "output_type": "display_data"
    },
    {
     "name": "stdout",
     "output_type": "stream",
     "text": [
      "\u001b[34m\u001b[5mGene:  Cnx99A\n"
     ]
    },
    {
     "data": {
      "image/png": "[encoded data removed]",
      "text/plain": [
       "<Figure size 432x288 with 1 Axes>"
      ]
     },
     "metadata": {
      "needs_background": "light"
     },
     "output_type": "display_data"
    }
   ],
   "source": [
    "from colorama import Fore\n",
    "from colorama import Style\n",
    "print(Fore.YELLOW + '\\033[5m' + 'RESULTS' + '\\n' + '\\n' + '\\n')\n",
    "## goes through DNA sequences in data frame and analyzes each\n",
    "for i in range(len(dna_sequences.introns)):\n",
    "    DNA = dna_sequences.introns[i].lower()\n",
    "    print(Fore.BLUE + '\\033[5m' + 'Gene: ', dna_sequences.gene[i])\n",
    "    ## reads DNA sequence, creates scores for each\n",
    "    def transcription_factor (seq, profile):\n",
    "        width = len(profile['T'])\n",
    "        bindingscore = []\n",
    "        for i in range(len(seq)-width):\n",
    "            score = 0\n",
    "            for j in range(width):\n",
    "                letter = seq[i+j]\n",
    "                score += profile [letter][j]\n",
    "            bindingscore.append (score)\n",
    "        return bindingscore\n",
    "    ## plots top binding scores\n",
    "    upperseq = DNA.upper()\n",
    "    bindingscores = transcription_factor(upperseq, profile)\n",
    "    from matplotlib import pyplot\n",
    "    max_binding_list = []\n",
    "    for i in range(len(profile['A'])):\n",
    "        my_list = []\n",
    "        my_list.append(profile['A'][i])\n",
    "        my_list.append(profile['C'][i])\n",
    "        my_list.append(profile['G'][i])\n",
    "        my_list.append(profile['T'][i])\n",
    "        max_binding_list.append(max(my_list))\n",
    "    pyplot.plot (bindingscores)\n",
    "    max_score = sum(max_binding_list)\n",
    "    pyplot.ylim (0.60 * max_score, max_score)\n",
    "    pyplot.show()\n",
    "    import re\n",
    "    sites = []\n",
    "    ## presents binding site information \n",
    "    for i in range (len(bindingscores)):\n",
    "        if bindingscores[i] > 0.60 * max_score: \n",
    "            sequence = DNA[i:i + len(item1)]\n",
    "            pair = sequence.upper() + ': ' + str(bindingscores[i])\n",
    "            print(pair)\n",
    "            sites.append(sequence)\n",
    "            for i in range (len(sites)):\n",
    "                visual = re.sub(sites[i], Fore.RED + '\\033[1m' + sites[i].upper () +  '\\033[0m' + Style.RESET_ALL, DNA)\n",
    "            print('\\n', visual, '\\n')\n"
   ]
  },
  {
   "cell_type": "code",
   "execution_count": null,
   "metadata": {},
   "outputs": [],
   "source": []
  }
 ],
 "metadata": {
  "kernelspec": {
   "display_name": "Python 3",
   "language": "python",
   "name": "python3"
  },
  "language_info": {
   "codemirror_mode": {
    "name": "ipython",
    "version": 3
   },
   "file_extension": ".py",
   "mimetype": "text/x-python",
   "name": "python",
   "nbconvert_exporter": "python",
   "pygments_lexer": "ipython3",
   "version": "3.7.3"
  }
 },
 "nbformat": 4,
 "nbformat_minor": 2
}
