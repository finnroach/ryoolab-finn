{
 "cells": [
  {
   "cell_type": "code",
   "execution_count": 5,
   "metadata": {
    "scrolled": false
   },
   "outputs": [
    {
     "name": "stdout",
     "output_type": "stream",
     "text": [
      "relevant_genes.csv\n"
     ]
    },
    {
     "data": {
      "text/html": [
       "<div>\n",
       "<style scoped>\n",
       "    .dataframe tbody tr th:only-of-type {\n",
       "        vertical-align: middle;\n",
       "    }\n",
       "\n",
       "    .dataframe tbody tr th {\n",
       "        vertical-align: top;\n",
       "    }\n",
       "\n",
       "    .dataframe thead th {\n",
       "        text-align: right;\n",
       "    }\n",
       "</style>\n",
       "<table border=\"1\" class=\"dataframe\">\n",
       "  <thead>\n",
       "    <tr style=\"text-align: right;\">\n",
       "      <th></th>\n",
       "      <th>gene</th>\n",
       "      <th>baseMean</th>\n",
       "      <th>log2FC</th>\n",
       "      <th>log2FCunshrunk</th>\n",
       "      <th>pvalue</th>\n",
       "      <th>padj</th>\n",
       "      <th>logpv</th>\n",
       "      <th>significance</th>\n",
       "      <th>intron</th>\n",
       "      <th>upstream</th>\n",
       "    </tr>\n",
       "  </thead>\n",
       "  <tbody>\n",
       "    <tr>\n",
       "      <td>0</td>\n",
       "      <td>dnr1</td>\n",
       "      <td>9011.6</td>\n",
       "      <td>-1.03</td>\n",
       "      <td>-1.16</td>\n",
       "      <td>5.530670e-09</td>\n",
       "      <td>0.000003</td>\n",
       "      <td>8.257222</td>\n",
       "      <td>y</td>\n",
       "      <td>GTGAGTTTATCGGTTCTCTATGTATATATGTAGGTACAATAGTTGC...</td>\n",
       "      <td>TGAACTGAAATGCTGGCCGAGCTGCCAAACGTATGAAGTTTGAGGT...</td>\n",
       "    </tr>\n",
       "    <tr>\n",
       "      <td>1</td>\n",
       "      <td>Cnx99A</td>\n",
       "      <td>3644.3</td>\n",
       "      <td>-1.23</td>\n",
       "      <td>-1.51</td>\n",
       "      <td>1.282870e-08</td>\n",
       "      <td>0.000006</td>\n",
       "      <td>7.891817</td>\n",
       "      <td>y</td>\n",
       "      <td>GGTGAGTAGTTGGTCCGACGATGCGGTTCGTAAGATAAAAAAAACG...</td>\n",
       "      <td>TTTTTCTCTCTTTTGTGGCTTTCATTTAGCACTTTAATATTGATGT...</td>\n",
       "    </tr>\n",
       "    <tr>\n",
       "      <td>2</td>\n",
       "      <td>ninaE</td>\n",
       "      <td>87351.6</td>\n",
       "      <td>-0.71</td>\n",
       "      <td>-0.85</td>\n",
       "      <td>4.684020e-04</td>\n",
       "      <td>0.029429</td>\n",
       "      <td>3.329381</td>\n",
       "      <td>y</td>\n",
       "      <td>GTACGATCGGTGGATCCACTGGATGTTCTGGTTAGCAATTTAACAT...</td>\n",
       "      <td>TGCTGCTCCTACTGCCGCTGCAACTACGCTAATGACACCAGCAGCC...</td>\n",
       "    </tr>\n",
       "  </tbody>\n",
       "</table>\n",
       "</div>"
      ],
      "text/plain": [
       "     gene  baseMean  log2FC  log2FCunshrunk        pvalue      padj     logpv  \\\n",
       "0    dnr1    9011.6   -1.03           -1.16  5.530670e-09  0.000003  8.257222   \n",
       "1  Cnx99A    3644.3   -1.23           -1.51  1.282870e-08  0.000006  7.891817   \n",
       "2   ninaE   87351.6   -0.71           -0.85  4.684020e-04  0.029429  3.329381   \n",
       "\n",
       "  significance                                             intron  \\\n",
       "0            y  GTGAGTTTATCGGTTCTCTATGTATATATGTAGGTACAATAGTTGC...   \n",
       "1            y  GGTGAGTAGTTGGTCCGACGATGCGGTTCGTAAGATAAAAAAAACG...   \n",
       "2            y  GTACGATCGGTGGATCCACTGGATGTTCTGGTTAGCAATTTAACAT...   \n",
       "\n",
       "                                            upstream  \n",
       "0  TGAACTGAAATGCTGGCCGAGCTGCCAAACGTATGAAGTTTGAGGT...  \n",
       "1  TTTTTCTCTCTTTTGTGGCTTTCATTTAGCACTTTAATATTGATGT...  \n",
       "2  TGCTGCTCCTACTGCCGCTGCAACTACGCTAATGACACCAGCAGCC...  "
      ]
     },
     "execution_count": 5,
     "metadata": {},
     "output_type": "execute_result"
    }
   ],
   "source": [
    "## most up to date version\n",
    "## imports the table of genes\n",
    "import numpy as np\n",
    "import pandas as pd\n",
    "dna_sequences = pd.read_csv(input(), delimiter=',')\n",
    "dna_sequences"
   ]
  },
  {
   "cell_type": "code",
   "execution_count": 6,
   "metadata": {},
   "outputs": [
    {
     "name": "stdout",
     "output_type": "stream",
     "text": [
      "Input transcription factor name\n",
      "atf6\n"
     ]
    }
   ],
   "source": [
    "## choses dictionary with pfm for code \n",
    "print('Input transcription factor name')\n",
    "factor = input()\n",
    "if factor.upper() == 'ATF4':\n",
    "    profile = {'A': [210, 169, 639, 0, 19, 888, 2, 1, 40, 879, 888, 0, 414], 'C': [71, 117, 202, 0, 0, 0, 372, 0, 838, 21, 3, 266, 272], 'G': [442, 409, 127, 7, 1090, 0, 9, 1104, 16, 0, 1, 62, 101], 'T': [170, 213, 3, 981, 11, 25, 470, 4, 113, 3, 4, 714, 78]}\n",
    "    ## make revcomp profile\n",
    "elif factor.upper() == 'XBP1':\n",
    "    profile = {'A': [4396, 3270, 1104, 974, 3699, 167, 7840, 9, 52, 0, 380, 8004, 230, 989], 'C': [558, 1017, 1191, 367, 3809, 7169, 17, 7356, 0, 16, 7264, 48, 2273, 6313], 'G': [801, 2413, 2669, 9168, 59, 222, 276, 2, 11353, 8, 47, 173, 3157, 1217], 'T': [2467, 1780, 3999, 2321, 247, 442, 118, 10, 10, 9107, 35, 92, 6389, 1250]}\n",
    "    ## make revcomp profile\n",
    "elif factor.upper() =='ATF6':\n",
    "    profile = {'A': [0, 0, 20, 0, 0, 0, 0, 2], 'C': [0, 0, 0, 20, 0, 0, 2, 0], 'G': [0, 20, 0, 0, 20, 0, 18, 18], 'T': [20, 0, 0, 0, 0, 20, 0, 0]}\n",
    "    ## testing out revcomp profile because comp profile actually won't work right?\n",
    "    profilerevcomp = {'T': [2, 0, 0, 0, 0, 20, 0, 0], 'G': [0, 2, 0, 0, 20, 0, 0, 0], 'C': [18, 18, 0, 20, 0, 0, 20, 0], 'A': [0, 0, 20, 0, 0, 0, 0, 20]}\n",
    "## allows user to input transcription factor \n",
    "else:\n",
    "    print('Enter position frequency matrix scores for A in the format 3 4 5:')\n",
    "    item1 = [int(x) for x in input().split()]\n",
    "    print('Enter position frequency matrix scores for C in the format 3 4 5:')\n",
    "    item2 = [int(x) for x in input().split()]\n",
    "    print('Enter position frequency matrix scores for G in the format 3 4 5:')\n",
    "    item3 = [int(x) for x in input().split()]\n",
    "    print('Enter position frequency matrix scores for T in the format 3 4 5:')\n",
    "    item4 = [int(x) for x in input().split()]\n",
    "    profile = {'A':item1, 'C': item2, 'G': item3, 'T': item4}\n",
    "    ## test if the following line of code works to get a rev comp profile: profilerevcomp = {'T':item1[::-1], 'G': item2[::-1], 'C': item3[::-1], 'A': item4[::-1]}\n",
    "    "
   ]
  },
  {
   "cell_type": "code",
   "execution_count": 7,
   "metadata": {
    "scrolled": false,
    "slideshow": {
     "slide_type": "-"
    }
   },
   "outputs": [
    {
     "name": "stdout",
     "output_type": "stream",
     "text": [
      "\u001b[33m\u001b[5mRESULTS\n",
      "\n",
      "\n",
      "\u001b[31m\u001b[5m\n",
      "\n",
      "\u001b[34m\u001b[5mGene:  dnr1\n"
     ]
    },
    {
     "data": {
      "image/png": "[encoded data removed]",
      "text/plain": [
       "<Figure size 432x288 with 1 Axes>"
      ]
     },
     "metadata": {
      "needs_background": "light"
     },
     "output_type": "display_data"
    },
    {
     "name": "stdout",
     "output_type": "stream",
     "text": [
      "\n",
      "gtgagtttatcggttctctatgtatatatgtaggtacaatagttgctggtgattttccacagaaatcgcttggtagttgagtggaaagtgcaccattatgggctctgatctcccctagctcctttcccttttgacttacgcaatattaccaaattgaaaattcattccttatttatccagctcttgtaatgaaactcaataataatagataagaagccgtatcgtaggaagtattatttatagctggcattacatccatcttgataaagttcgaatggtgaactaagtagcagccatatataaaacgatatcttagcgcgtagttacacttgaccttgattttgattccatcttcatgatagaacccatatgtgttattcaaccgaaaacaacaggcttttccttacttaactccaagtatgtggcttgagccattaaaccagccacatttctacgcattgcattacccgcattcaagggcaccagcctcgggtgttctgcaactcaagggaaagtcatcagct\u001b[1m\u001b[32mCCACTTCA\u001b[0mcggaggttacaaaattatccaggcgcgagctccttgccttggaattacttcatagctcttatcgatcctcgaccgcagtttatgcaatttggtcacacgtgtgtgatatatgatgtacccctactggattacgtatcctctataagaggatattacgaggtagcactaaagagcc\u001b[1m\u001b[32mTGTCGTCG\u001b[0maatcacttgaggttatagagattggttggttttatctttggaaataaataactaaaaaatgattacttttttatgaccaacgtgcacagttgttcacaacggacggacggacggacggcataccaacaaaaaaatgttctcatttcattttaatgacggcctttttttcatggcgaatttcgttacggctaataccagagtggcttacgataaaaagtgttataaaagaatcttcattcgagtgcccgaagcacttgattcaatttcaattaacattttttttgtgggaggtctggacccgattgtttgtacatacatatattcaacgcttatcagtggcaaaatccagtgtgtgttttccatttcgatccgcatttcgttatcagctcgagggggggccatgtccaatttcagtgtcttgttgtttactagttttgcactaattcattttaaatgccaaacacccttgactcgagctgcccccgcgatagaaacgcaaggtgtttcatagagtagaacagaaaataggaggtatcaatgtttcagaggcttggtcgacttgctttcaattacaatatcaccttttaaatagtttagttttccgtgtacttaacagttcgctcgtgagttcaatgtccaagtgctgggcacttgaggcgattagtgcaaacacttgaccatttcgcttctgttcagcgaagctctgttactacgagcgatatatgtatgtacatacgattatgctccaacccactaatatagacagagccccatttcacctaccccaaagattaaagtcaattcggcaattcgccttgtttgtcaggctaattaagtcattggcttatttgcgaaccgtgcattagtgtctgtgcaatctaatcgggcaaacttatcaaatggatggctcgcacacacacacacagagacattaatattcaggtaatattcaggccgggttcgttgccaactttattatcttctgtggaaaacaagaaccaagcgaaccgagaacaagaaaatatgtcaacttgggcttatcttatcgaacacgcctatccgtatcacaatatcacaataactcatttgctatcaatttttacggctgtgaactagcgttaagatcgtcgaattggggcagaacgcaaatgctttttattgggggcttagcactaatcgttgcaaaggttacgatgccagttagtgcgccagttcttttgattactaattgaattctatttttgtagtcgcactatagaacacacaagtggtcttgagggcacgaccaacaactactgatcaactgcatatagcgcagtgctataaatcaaatgaactttgtggcggataatgcattttataatgaatttacagttgtgggaacttgataatctgccctgttatatggttaccacatcgagataaccagttggtattggtcagctttaattgcatctttattgtatatagaaaacatcgagcctttgttcccattgttaagtcatgataatcggatctttcttcccgctgcaaaagttgcattatccccccaatgacattgaatctcaatctcaatctgaatccaaatcggggcgttatcagttccacatgtttccactcacgtatgctccatttatggatttatgtactatgtatgctgcacagtccaatgttcaaatgcgctctgtatcagtcgctttgatctgggaaaacatctggtaaagtgtacatacatacatatatcactcatatagccaccatatgtggattaatcgaattaatatttttacgactgtgatttaactttgagccgtgcgtcagcctaatctatgaataccaatgcccattgattccgcagcagcttatcatttgaaagaatgacgcgccgcctgtaagcgtcgataaggtgtgttacaaattcgtcatcgttttttgtcggcatgactgtgagaaatccttgactattaataaagtatgatgggaaattaattaattatctgcacgggaatgagtcaaaagaagcctcttcaatgtcacctggctggcggaaccttgagtgatagtgctattttgaggactatgacaaggtccgagtctttcagcgggtcttaatcgcggcttagtgataagccagcttgggttgtaaacgagccacttggctgataagagaggtttacataacttcgagcactggctaatgaactctgagggttgggggcattgctacgaagatgtggtgcggagaggcacggcacagttgcacattttaattacagcctgccaagctgatttcaacccggaccggagcaataaagttttcgccctccaatcgtacaatcgcaatccgaaaaagtttagccc\u001b[1m\u001b[32mTGACGTCA\u001b[0mgtgggacgacgctttcgacgagtttgcatgtcaaaggagaattacatttttgttacctcgatttaacaatcatacacatatgcatgcaaatatgcccccctttctcccgttttttgggtgtgtctgcccagcgagtcggagtcagtcaggcaatttcccattttccatatcccatatcccatttgccattttccatctgccgaaatagcatttctcctcatcgccgtagcccaaggacgccccctttggggaacgggaactgtgggccatgtgcaacagttttatgctcgataatagttacttgcaattaccagctacttgtaattgtgtaattgctttaaaattgcaattttcgtggctcgtttgtcgtcagagccgagttttgagtgcccatttgagttgtttttgattgcttgcttgcgttcttcacatggatcgagtgggtgctccactgggtttggcatttcgagcatttagcaaagggcccgctgttacatgacaaagtccacagaaccaggaaaaggaaaacaagcaacgaccatgacgactcatggtcgtagtggaaaactttcaaatcgtggtctccatgccgatgaaacgtgatcgcagtactgacctaggcagtacgagtaataactcccaactagtgcgcattgttgttattgcggcttgaagtctgagtagtttaatgcgtatttcgcccactgtgccttaaagtccctccattgattgtgattcctttatcggattgcctgtcaacaggcggcgttaatctgatccttctgctacgccaaaatgacatccattttctaggtgtaattatatttgcgaacactgctgttgctttcccttcgttaaagctttctcccgatgggcggccaaatgggcttgggaatgggtcggggacaggaacagggaggattagaaggcagctggatggatgatgagttctttcaacacccttgaagtgtgggattacgagctgggtgcggcagtagtgggcggtgggcggtgggcggtgggcggtgggcggtgggcggtgggcggtgggcggtgggcgctgctcgagtgtgcgacttgcaacaattgaaagatgtgcaacgaggcaagtttccaggcaagatttgatgaggcagctcaagtggcagaggggcggcgtcggagaggcataagaagcagagcggcgcatgaggggcaggcgggtcaagtgcagcagccgctggccaatttgcgtgtctctcgtg\u001b[1m\u001b[32mTCACGACA\u001b[0maaaggccaattcaagctgtgaaatttgaataaaaatcagacatttataccgtagtcaagggactgcaaggatattgcagaaatcctatttatagcaggtcctcgtacgcagcttgtcaataacattcgtaaaagtaaattctcaaaaagactctttctatatgtttctctgttcccataggtggaaagataaaagcttccacaaaatcaggtccaaaaatcacattccttggccttaagtaaacaagcgatctgtccagatgtttgcatatacatttagcagcattaagcaaaaacaaatgtcagaaagcacagaaaatatacttatcgttttgtgtccctctctttatcagcttcttgtgataagcttgagaatttcgtatattaatacc\u001b[1m\u001b[32mCGATGTCA\u001b[0macaacgcagaacagactgataaaggggagaaacgttggggaaacagagagagcaacagaaaacagaagacaggtagaagcag\u001b[1m\u001b[32mTCAAGTCA\u001b[0mgatatgggagcaatcaaggcgtaaatgataaataagcattaataatttcgttctcgattatttttgtccgtaaaacgcaattgccgagctttttgcgctttccactctttttttttttgtatgccatttgttagcgctccacagatgtttaattaaaattgaaatttccccaacaaaacaccttgtgctttgtttagagtaaagctaagtgattaatattaagcatacgccccatatgctggcccttaatccttgggccaaatgcggtttttggccccaacagcaggggagttctttctttttggccagaagagcgcacacacgtgcttctacagaaggaataacttataagcaaaagtatctgtatctgagtatcttgtggttgttttcgcctcgtatttgtgtttttctccgttttagtttgtttcgctgtttatttcttttttattttgttgtttgtgtggggccaagcccatgcgaaaaataaaaaaatataaagcgcaaaaggcacaaaacgagatttacctatttttcgtatttttgtcaagtttcatttttcgccatgcatacatatgtacatatatgtatgtacatatatgtacgtatacatttgtatgtaaatttgttattttatttcgacgctccgctttttgctccgattcgcgctgcttttatttgttgcagtcgacagttattaacaatttaagcaaacaaccgaatataaatacaaatatatttaaggcgggtcccccgagttttcagttcgatttggcagctcggagagcgaatgtgccagttttcctctttgtttggcccccgaaagatacaacgcaatagagttcatttaaattgggcaactaagatgattaaaattaaatgtctttatttaaacggcacactcgagcaaatttattttccattgctttgacatcattgtaatggggttcgcaaataagaatcatatatacactatttaacttcatttatttcttcatatacaaaaa\u001b[1m\u001b[32mTCACGTCT\u001b[0mgatcgctatgaccgcaaaattacaagagcgaaagaaagaatacagttcagttcaattagcatcgatatataaaatgttaatccgctgttaagacagctgaagcaccgggtgactccgctcataatccgtacatgccgcccgccaatgcgtcgtccagcatgaaggctccttgtgattcttgatccgtgtgttgatcataattatgttgaaatcggaagtggacaaagctttgtgattgacctcttttgaatgccagatttcgtctttaatgtaaccactctgactagcgagtccgatccagggtgcagttcgacgactcggcctatagtccatttagctggtggtagattatcatcctttataatgactaagtcgttgatgctaagattatctttgatttggcaccactttggccgagtttgcaagtgtgataaccaatcacgagaccattgagaccagaattg\u001b[1m\u001b[32mTCGCGTCA\u001b[0mtgtgttgttgtgcgagaaatagttcacgcaaaggcttattattcggccgaccttgtggcggtgccagtagtgcgtcaccaattaagaaatgtgctggagttagtacttctaaatcgtcagggtcggcggttagcgggcaaagt\u001b[1m\u001b[32mGGACGTGA\u001b[0mgttcaaacatgcttcaatcctgatcaaaactgtagtaagctcctcatacgtctgcttgtggctgccgacgatccgtttaagatgatgcttcattgctttcacgtttgcctcccagatgccaccaaaattgggagaatatggaggtgtgaaatgccaccttgtcccatgttgacatgtcgattcgtttagggctgccttgcaagtgatgggctggttaagcgatgtactcgcgccaacaaaatttgtgccgttatcactatacatatgttgaacttgtcct\u001b[1m\u001b[32mCGACGTCC\u001b[0mggtgaatcgcgtaaatgcttgcaggaagtgctctgttgaaagtccagtgacggcttccaagtggaccgccttggttgctaagcatataaaaatggctacatagcctttgtaggtggttgatcctcgtacacgcgcggcttgaagttcaatcgcaccagtgtagtcaactcctgttgtaatgaacggacgagttggggggttgactcgatgtaatggcaagtcacccatcaattgcttcgctacgactggagctaccttaaaacatgtgacgcatttccggatgattcgcctgactgcttgtctgcctctgggaatccagaatttgtagcgtatgtgagccagtgttaattgagcgccgccatgtagagtgagctgatgagagtgttgaattaccaaatctgtaaataggtgacaatgaggtaatataattggatgttttcgagaaaaagagagatttgaatgcttgagacggccacgaatcctcaagatattgttgtcaagaaacggtgtaagatttgaaagtgtgctacggggtggtaacggcttgttccttttaagcgcttggatgtcggcgtgaaatgtatcggattgtgcaaggcgagctatgcagcacagggcctcatccagctcgtcaggagagagtgatccg\u001b[1m\u001b[32mTGACTTCG\u001b[0mttgtgctcgagcatgagcattgtggcagaatcgtaacatgta\u001b[1m\u001b[32mTGCCGTGA\u001b[0mcacgtagcagttttgtatacgacgagaatcggtcaataatagaatcctttgtgtctgacaaggtagtgaaggctctaatttttatggatttggcctccagatcccgttcttctggattgagcaattgtgattgcgtgtttggccaaatattgtgtggtttgcatagccaggatgggccatgccaccaaatatcaggtatttggctcggtggtaagcctctggttgcgcaatctgctgggttttccgatgtgtctatgtggtgccactgagccgctgaggtgtggtcgagaatgtaagacactcggttggctacaaacgttttccacctagtaatgtctcctttaatccagtgcagaacaatggtagcatcggtccagtaaaaggtagatatatgtgcattggtccatcggttattctccagcacccatttggtgagtttggtagctaatactgcaccgcatagctcagtgcgcggtattgttaacggcttggttggcgaaatttttgattttgcgacgatgagcgttgtatagaaagtcccatcagactgttgggtgcgtgcatacactgctgctgcgtaagcactggaggatccatcgcaaaaggtgtgcagttgtatctcactactaaatagtggcgtaaatttgacgctgcgtggtattttgatcgtcttaaccttcattagttgctgtcgaaattgttgccatttgacggcaatggtgttgggaactggctcatcccaatccagtgaggtactcgatccgtcctcgcgatattgcttcgctagtgtgatttctttcaatataatctttgctgaaattacaactggagcgattaatccaagaggatcaaataaacgtgctatggtcgataggatttctcgttttgttataccggctggagtatttgctagtaatttataagtgaagcaatcttgcttgggcaaccagtacatacccagtgttttgatggtgtccgcattgtcccaactgagggatgtctgcttgcatcgatgctcgagaggtatcgttgccatcagatcctggtcattactagcccattttcgtagctccatgccagaggattttaaagctagcatagtttgcaaacttttccgtattgctgcctcttgtgaatgctcgcctgagagaa\u001b[1m\u001b[32mTGTCGTCG\u001b[0macatatatcccatttttgagaacgttggatgccataggatattttgtctgtgtgtcttcagctatttgatggatgactcttatagctgtataaggtgcagacgctgttccaaacgtgacggtagttaagcaatgctgtttgatgactccatccgccgcccgccataaaatcctctggtactgcgtgtcatcagggtggacattgatacagcgatacattcgttgtatatcggcagtgaaaacaaactgatattgtctccaattcaagagaacggctggcagatcattttgcagcgtgggacctacacatagtacatcgtttaacgatctgccatttgaggtccgggccgatgcgtcaaaaacgatacgttgttttgtggtgaggctttcttctttgaaaactgca\u001b[1m\u001b[32mTGATGTGG\u001b[0mtagcacgcatgatgcaacatgccgaccgtaggaatccgtggttatggttgagttttcgctcgtctctgccaacgtgatttgacctagttgaaaatattcttcaattcctttgcagtatctgatccatttgtctgggtccctttgaaggcgcctttcgagttgaagatatctgttcagggcgatctgatgagattttccgagcgtcatactggggtcaaagttcctcttgaatggcaaacggacttgataactgccgtctggt\u001b[1m\u001b[32mTGACGTTG\u001b[0matgggtctgcttaaagaaagactcgcaccattgatcttctttggagagctttgggcgttctggaactgattctacctcgcaaaataccttaagcagctcttcggagtttattatggcatgattacatcgaatgtggcgtgtaatatgcgtgttgccaacattgcctaacagaacccatccgagttgagtattctgcgctatgggttcgtttggcaagccaatcttagttccaggtaacaagagttgtgccataaggtcggctccaaaaatgatatcgattcgcttggatctataataataggggtctgcgagcatgagaccatggatatgactccagtttcctgctggaaaactt\u001b[1m\u001b[32mTGACTTGG\u001b[0mcatgtgtgatgtcaacgtgttcaaaacataagcatcgtcgacctttaacgagaaatttgggttagttgctgtttgcaccgaacaacttacgatgaatttgcagcgtcgtcctgaatcttgaccgactccggtgattgcagtgcgagttgtgcttcgggagagctggagagactgtacagcatgctccgaaatgatagttgcttccgatccttggtcaagaagcgcgtttaccgtggcctggcatcctgtctgtgtgttactgagtacaacccgagctgttgctagtagtacctttcgatgagtcatagatgaagttgtagttgacatgcactgtagagtcggcttggcatctgaactggctgctgaactttggca\u001b[1m\u001b[32mTGATGTCG\u001b[0maggagggtatcagcgttggctgtgttgctggaaaatgtaacatcgtgtga\u001b[1m\u001b[32mTGACGTTG\u001b[0maccacaatgaagacaattcttgttgctggggcagcttgcttgtgtgtgcgattttcccaggcaattgagacacaattttgccttgctggccacttccttccgttggtagcaatccattgaaagaaattgcggacatcttcgaagtatgtgtaagttgccacaatgatagcaagcggacgcggaagcacccgacctggtgtgggcgctgtgcacacgcacgcgtttagtaccgtctgaagtttcatttgactgtttcatgccgctgcacgcgttacggctttcaatagcgtctaacgtaacaagtcgatcattgaggaactgttgcagatctttgtatgaag\u001b[1m\u001b[32mGAACGTCA\u001b[0matcttgctgcccagatgatgctcccaagctgtgtgagtgtctttgggtagtttggttgttagataatgagtcaaccaaaaatctcctccctgtagtggcgccttgacggtattgcaagcggcaatgcagacgttgactgtactaaccatagaccgtatgtcagcagatttttctttcgaaagattcggtaagttgtagagcatgttcatgtggctggcgaacacaattcgtgggttgttatatcgttgtagaagtgtggtccaag\u001b[1m\u001b[32mCGACTTCA\u001b[0mtagtttgcttcagttaaagcgatttggcgaatgtcgttgtccaggcctactggtaatgcttcctttaaaaaatggaacctttgaatcttatccagacgctcattattgtgaattaagcgtaaaaatgcatcatgaaaacttggccagtccgcgcagttgccagagaatttcggaactggtaattttggcagtggtatccgtacttcctctacatgtgttgttattgtagagttagctgattcgttgtgcgtcactgtgcctggataaattcgtttcttttcttcggccacgaaacagtaaacttccatgcccaggtcttcgaattggctgattgtattttgttgcttatacacactttcttcgtagtctgccatgcatataagtgtgtgatgcgcctgatgaaattctttgttaaactcgtcgatttgattcaaacgtttttcgaaatatatttccgttttccgcgcactcgagtcttttttcacattactgaacaagcgcttcaaagactcaatgcggtcagtttgaactcgcaccagttgatcaaatttcgacattgtttatac\u001b[1m\u001b[32mTGACGTTG\u001b[0mctccactgtatgtaatatgcacaaatgctcgtatgttatcggtgttcttctt\u001b[1m\u001b[32mTGACGTCT\u001b[0mtgtttttttgagttggcagagattccggcaaatctaacggaatcgaagggcaacgggacttagctc\u001b[1m\u001b[32mTGTCGTGA\u001b[0mtgagagcgagcgcgaatgtttgcgtatactgctc\u001b[1m\u001b[32mTGTCGTGA\u001b[0mtgagagcgagcgcgatagaaaacgtaggcacggtgatttatctggatgaagccgaccacgaagataaaattgccaaacagcttttagcaattattaattatgattcttatgagcaaggttcccctcatgggccaccaatgaatagttgtgatgcctcactgctttgacatcattgtaatggggttcgcaaataagaatcatatatacactatttaacttcatttatttcttcatatacaaaaa\u001b[1m\u001b[32mTCACGTCT\u001b[0mgatcgctatgaccgcaaaattacaagagcgaaagaaagaatacagttcagttcaattagcatcgatatataaaatgttaatccgctgttaagacagctgaagcaccgggtgactccgctcataatccgtacaaagcatattacgtatttttatgtgttttctcagcgaattactcagataaatcgagtaaattgttcaccaaaatgcattaattagtttcgtacatctattattatgttctataaatatttgccaatgtaatttatggctttattttagttatgaaatcttttgatgttttatcccatgtgagtgtatatcgaaaagcataatatgccataaattttttaagttcgtacaagcagcctaaaaacaagcaagttggctttatgcgcacatccgtacaatgtgaatactgtatggcctaatataatttattttttccccactattcgaatggatttttgggtttttacacacaacagttgaaagttctgaaaaaagaggcaaaaggccggcaaaagttatttaaatagcagacatacatattcagtggccgttgatattgtttaattgttgtttaccgcttaattagttaggccctggaagcagaagtcaactgaaactttactggtaaatatcggtctagaacgtaacaaataaatcccatatttgcattcgaatttgcattgattgcctgcacataaaatatacgcatgcacacatgtttattatgcactatcaataaatattcggtcccaaacgaaacgaaaacgaagtaatctgcccggaatttatttatttatttatgcagcctctatgcaaatgatttttgtgcccagaagtgccagtggtaaatctgcaaaattggtccaaagcaagaattaattttccaaacaattaaatccgaacggagcagccacctaacaccccacaccttccgcctgtccaacgttgttggccaatttgggaattaattgccaccggccgaagccgaaacccaagcccaaaacataaaacccacacacacaaacgcaatgcatttacaaccccacatttcactgcattttccggcagcccaaacgccatcacttttatgtcgcttcgggagcagcaggacgtttgtcatgttcgctggacatttgcgcttgtgtccgaaaatgcaaaatgcaccgcaggctgtgccccaacctggggcagcccacacgtccagggttgccaggcgcatatcgcatcttagaagttattaaaaaattgtgtaagtttgttaaactttatcgcagtaggtatagaaaaagtcgtgcgagctgcagacttttaaaacttttttaataatccagttgggaagctaatgcatctcactttagcagatggaaatagtagctcaaactatttagcaaattaagaagattaaagatggtgccgggtaaaaacgggaactgcagcttgggaattgtaaagttagctattcgtgtacgttgcaagtttcacaggtggaaaagccacaagtaatttgtacaaacaagctgatttaagttcacagttcacatcgcctgcacacttacttcctgaagtcc\u001b[1m\u001b[32mTGACTTCG\u001b[0mggtgaatcgacaaccctggcgagcatacatcatgtgcccagtcctgaagttgcgaggagctgcgagggtcacaccacaaaggctccgtgatgcgtgcgccatcctgtctgcgtccttgccccagtcgagcccttccactcccattcccactgcctactccctccccccctttttccagcttttcctgtggctttgtgtgtttgtgtggtgcttgcgcgtccttggcagcgcaatttatgtttacaccgtgtgctggcagtgcgcccgcaaatctatctgggagaatcgctcccagctagtcgccgaa\u001b[1m\u001b[32mTGAAGTCG\u001b[0magccgaggcgcgcccaatcaaaaggaaattatattcgcgtgccaaagcacacaatactgtacaaggaagaaacggaagagtggccaaactacagcagagattcgctagttgcaactttcctaaagtgaaacttactgaaaaaactccactgaaacaggggtgaattgaaaaagtcagcgcgtttataagaaaagtttcccactcttgataaaacaagtacgtgacatttagttgtcctttcaagtagaactaaaacattaatccggaactaattccattttgcactgatccacttacaagaacgcaacccaatctagacacccctcaaatgtgt\u001b[1m\u001b[32mGGACGTGA\u001b[0mattatatataggtctgatgatggtggttctataaatggaaacggaactgtacggcgaaattgagtgggtgcactccaatggggaggagttgcaaacgaatgaagtcagc\u001b[1m\u001b[32mGGACGTCA\u001b[0mcgtgcaatgcgaactcgacttgattcgccactctcgatgcgaaaactcctcgcacatatcgattaaatggttttagtcgaatgcactgccttctcctcctcttagtgcttgtagttcgcgaagctcagaccattccccggctaattggaagccgttttgcgggtggaacaagtgggtggattggccatctagtggctgtagtttgtagttcggggaggtctaacactaatccaacgacaatgacaaggcagccagcgaacg\u001b[1m\u001b[32mTGAAGTGA\u001b[0maaccaggaaatggggaaggtggggggaaaagtgtcgtctgcttttaagcccccatttaatgcaattaccgcttgcagagtcaggggcattctgtcttttagcaccaggctaatggttacaacattaaccgagtcccctcctattcacttagaaataattttactagaaaatggcatggacaacagcttaaattcagaagttagctaaactagagtggccaaattgaaatacaaagcgtttctacttgcgagcataaggttatacaggcgcttaatagagagtttggtcactctacgacttaattcacaagacttttattttcaaggttacataagcatgacccacgttttttttccagtgttcgctgagcactttgacgatgatgcagaaatcgtgcctgcacatgacaatgacgaaatttgagcaaaatcaatgttgccggcaaatgataatgtcatttgctaagcaggcgcctccacgatttttgcagcaaatcctcttgaggtctagtgctatctattgtttccatggtttttgcgtattatccttgaactgctttcgcccatttcgccaaaggttggcggcaaattgtaaggagaagggcgggaaaaaccatagaaacgtgaatgcacaacaacgaagcggaaatatggccaagaaaaccacctccaacccaaccaccacctgcaaataaagcttactctagcccaagccaacatatatgtatgtatgtacatatagcttagaacaatattaaacaataaaaaaaaatggggaatttctacaggaaacaggagaaagcgggtaaaagcagtggagagcgcggagacgaggagcgagcgtgaacaataaattgcgtgaaaatgcaaccgaaaaaaatgcaagccgcaaaacaaaccgcagaaacaggggaatgcattgaatgctttttccattgtattcgaatatagttttgtgaaaaagccgacaagccagctcaccccccccccccaaacaccaccccttacaatgggtggtggggggattgactcaagcccct\u001b[1m\u001b[32mCCACCTCA\u001b[0maacccctgccattttgatgtgtctctaatggcaaggcttttgtttcgccctttctttattttctttgccttacttttattgcccccaaaccgaagcaaaccgaagcgagtcctgtgtggctttcactattattttctttggcctttctcctcctttcacgattttcccacctactgatgagcagggagtgggggaccttgtgaggacgacagaggaccttgcgaaacaaagagggccaataaaagcttataaaattgtgatgggaaatgaactcgcgcagcaaatccgatcagcaatcggatcaagatatgatttacacagcacagaacgaaattcggattaaaaataagccataattcatgaaggtgctgtaaagtatgcaactacaatataaaatggcagtataaaagaagaattatttaacttttgcatgtgataaaacagctttattgagctcttttgactgcaatgataaatcatattacatttttttttcaccttgcatgttgtcgtttggaagtcttttccgcccaatttccatttttaattcggaatcaaattgaattgcaatttgtttgcgctgggcgacgggcttttcatttgcgattttccacgtttcaattagcgcacgaaagtgttcccactctgcgtggaaataatcgtccttcggaggtcttaattaaatgcttttactttaattttactgcccaaagatgtacagtgtcctgcggcggtcatgttctgtttgcattgttcgaagtgccgccccaaaccgcctttgttattcgccaacctcctgccacaaaccaaaccgcctcccccccccccccgccacccgagaaaaccacaattcgcagcaggataatgccgttttaattgagcctcttaaaggcgcctttcattgcctggaccaaaattaattaaggcgcactgcctgagtaaaaacacagttttcgcggcacgttttaattgcgatttaatggaaatcgaaatagacatgtgatttatttattttattgtaattggttttagaaaccgggctgcgtgggggtgtagcgtattgctttcgcatttgaattttacatactattatattcatattgcaatggaaaatggcccggggtcacgaaatgataattgcgggaattaccgcgtgtattaatgcattttttatttgcacgctttcctcttggcaatgtgagtagagctttcaaatcggaccccctaatcatttctaatcagagtgctggcagacttgcagtctgccaggtgccgagtcccaccaagtttctagtccccgtttacccagccatcgtcatcctaagtggccagtatccgctacccgagccttccttt\u001b[1m\u001b[32mCGACGGCA\u001b[0mtcaaaagcattttccgctactaaattgcttgaaaagaaaattctacaattttaacgaagtgaaaattgccatttggcatatggtgggtgtggtggtgcgcgatggtcgttcgccatcaaatgtccatcaaagcttccgaacttggccaaggaagtgggtgtttgcgtagtgagtgggagcctaaagccaggcatcattaactgcaatgactaaagtcatttgaatggaaggcaggaatggcagggggtgcgaatacagtcaggaaaattgccattcaaattagtttcattcaattaagtcctactatatacctacccacttctctcacaatttggtccttcaagctggatttttggaatattatggtttcagaatgacccatagtaatacaagattatttctcgctgtgcatttgaggtcagcagttgcacggtaggccaaaccattggaccattgtagtatttgcttgggttaagcttgtcacgcgcgatttccgataccgtggcgaaaacgaaaatgaaaacgaaaaggacccaaggacgaatgcaatttacaattagaataaatgagcctaggcacggcaggttcgcaggaaacggtgaccagaggacacaatttttaagtgagcgaacaactttaaatgatatattattatgtgctttggcagcgagagcccatttgcatggcaaattcccgtccgcccgaccagaattatcaagtgcaaacgtggaattgcttcgggggtatgagaagagccgacttttggccaaaaaagaaaatcaatacgaggcagacacaagagccaagttggcacctggcaacaggcatcggtatatacggtacatacagtacgtatacatatgtacgtataccaaccaacctacaatatatataaaaaatatacattttttggtaactgacagatacaaaccggctagctgggtgagcatagtatgtaggtatttgataacttaattgaaatacattggagagcggccaaaagcgagagcgagtaaggtaaacttgtaagcctgccttgtggatttatgggtaaacaagttcatagccggggttataaaagtgggcctggtgggtggagctctgtgggcgggtgggcagcggataaatcatcaaagcagctgcagcacgaggtccttaaagggagcaccgacaagccggcgctttgtgtaaactttcgcaggccccgagagccgaaaaccgatttgctgatatctctgttattatattatattttggaactgtgccatccctgccatgtgccccactatactttatgccgcataatgttgccccattatgcatccttttcccgcgcggacacaaagtccgccatccggaagaaatttctttttattattatgtccttttttttttttgggccaagctcggcatcttaaacattcgacaattgtccgtccaagttctgtggtcgaccctgacctttgggcccatatatccccgccccatt\u001b[1m\u001b[32mTGCCGTGG\u001b[0maatgcatctccggcaaacatttcgtcatctcaggattcctcaacatttccatttctggctctcgcatgtgcacttgacattcttttggccaagtttcgccttctttgttggccagaaaagtttagcctcttccagcagacatttcattttgggcgcaatgtaatttatcaagttgcaaatgggattcaaagtctgtgaaaatggtatggaaatcaaatgaatgtttttgtgcaaacagtatttcttaccgcccgatgagggatgtgatcactgcaagagctctggtttctaagccaactttttgcggcgcaaactttccgttgttgggactttaagtttgctaaatggcttgcggcgataatatagtggaatgaaattgcaattaaaataagtgacattatggcattatcatctggttgaaaaaccaacgcaaggaaaggctagcaaatttagtagtatctaatgagatggaaaatctccttgaatttgatggcgtttaaagtcattatttggtgctcgaatagttgcagctctcaaaaagttggccacaaagttaagccagcaataatctggca\u001b[1m\u001b[32mTCACGTCG\u001b[0mcggcaattgggaatgcagtgccatgctaattagggccagcactggcgaactgaaactgaagaccccttgttgtgggggcttgtgtgcactgcatcgccaactcccaaaaggggcgaggaaggaaaacacaacgaggaagtaaaagggtagcagcggtagttgtagttgtactcgtaccatgggaccctgcggcttttccgcattttcgcgcaacgcacgcaaaaagtggcagccactgaaaatgacgcatacttaacgaaaccaaaacaacagaggcgaatgagaaaaaaaaagggaaaaacactacaaaaaaagtcaaatgaaaagcgtggaaaagcgcgcggagggatggaggaggggggaaaaaattatggcaacagccaggacacacattcctgcataaatatgcacaggacacatatattttcatttgggtgccctgattttccgtacacaaccacaaacaaacacacacacacacactaacaaacatccaacatcagcatgatttttgttcaagactgcagcctcctcagtcgtttgcaat\u001b[1m\u001b[32mTGACGTTG\u001b[0mgcttttagccgttgacgcaaccgtttttggcccactgcgagtgcgatggcgagtgccgagtgccaagagtcacgtacaactggccaaaacagctaaaaacggtcgagaaaccggcatccctcgctgctcgccgaacagcattttcattaataatgcagcaagacagccccgctggatcactcagcgaattgaggccacccatatcattgccaaaaaaaaaaaggagcacgagccgcaagccgggggatgaggatgagagttttatggcgctggctccataaacttggcttttactcgactccaaaagatgtgtcaacagttgaggaggcagagcaaaacgaccggctttcacttagggagttcgcgatatatgagatcactgcaaggacaagcgatgcactggaaataataaggggtttcttcgtaaaatattcagcatgtgtactgagtacgatttcttttatttcagctgtagtttaatgaaagatagtttcagaaaactattatcattacgattacatatatcactgtagacgacattccacatagtgacgaagcgcgtctgcatttccacaattgctgagcacaattaatagttcatttttatagcactttttctgggtgccatttcaaaagcagaaacattcagctccgaggacatgctactccaccatttcgattagctttttaattgcacttatgaaatggcattaaaccattcgttccgtccgatgcaattgttcttcccattcttcgctgccttcttgttcctattgcatttttagtgtgcactttgaatgcagcacttttgttgtttcttgtttttagcttttagtttcttctagcatttgtttcgtttttgctataaaatttatggccaacgatcaaagtccaatgttcagtcggtcgctgccgctgccgccgtcgacgtagctgcaactgcactgctacagaaatgaaatgcattcgctctccatctctttcacttgccagcgaacagagaacgggagcgagagagacggcacacacgtgcttacattctaatgctaagaactaagtggcgttttattttcattccaatcggatttatattgaacggaaaagcaaaatgccagggggcctgattatatagattgggcatatgtacataagtaaaaacattccgattagtaacaaaaaaaagcggcgcttctcctatgcgatttcgctgccgcattgaaagggaaattcaataatagggcgcaatcacaaagtatcgaagtgccgaaggttgctcctgaaggttgaaaccgaaacacttgttgatagtttgcattactaatt\u001b[1m\u001b[32mAGACGTCG\u001b[0magattatcgctattacaacatttgctcatctttttgccagtcgaaatttgctgagtaatgtgagctcgattgtaagtgctgttttgatgattaagggaaaggtacttgtaggtcatacagagaacataaaactagttcattgtgagctagtagtatcagttaagcaaaaccaaccctatcatattattattcttagctacaaattgagagacattagcaagctaatattgccatttggcaaatatttagatagcttgatgacaaatcgattggaaataccaagcttttgctaccttaccagtggcgtgcttcgtcaccacattctgttcaagtcgaaatgaaaccaaccaggttgcatcagtggctcaaacgttttcgcaccttgacatttcgatctttagcctgcgataattgctgcgcccggtggtccagactttccctcaattaatttgcactcgctgtcgcttttcgctttccatatttcgtgtgctccgcataccgggtgtatatttccattttcgcaatttgtcagataaattctgccattcggccgcttc\u001b[1m\u001b[32mTCACGTCA\u001b[0mgcaattaaaagaaggcgcaagagggggcggggagcgggcggtgctacagctgctacagacaggtccgacttataaggtggcgcacatggcgggcacgtgattcgcatcctcctcccccacccaccattcacgacccttgccgcggtgcataggtaattaagtgcaatttatggccaatttccatgcatcgaacctgtttcagtgcactttagttcccatggacaggaagaaaaagctactgatgaaatggaattgtatcttttaaaatttgacttttatttaacaatattatgaaattcttcaaattatctcgattgcaaatcaatgatgataagctcattgatattacaattcaactacctaatttttttcatgtgcatcgataggtgcagctgctgccgcccattttcccctcacttattcttctcatgagactcatctgtcatcggtgggtgatgggttggtgagggggctgcggacggttgggggtgtggtgatcactcgataagcacatgacctgcaaaatagagcgcaaaaagaccgtttatggattcgaatctccaactgcctttgtttatctcgctcgagcgaagaagatgaaatcagcactgccttgatcacgctctcactgacgcccccgcgtttctctcttttgcacgtgtgctcctcgaattgcatttaattatcagctgcactctccttctctttacttcttgcatttctctctgctcgcacaggggggttcaaagtacaaaagtcggcgctccac\u001b[1m\u001b[32mTGACGTCA\u001b[0mtgagcttcagtttccattacagttacagtttcggtttcggctggccattaaaccaagcaaagacgaaaaatacacggcgatcgctgatacaaacacacatacatatatgtatgcacacgaatactcgcaaattataaacaacggagagcacacaacaaataacagcacagcaacaaagcaaaagcaacaagacaacaaaacaacactcactaggcgagtgccagtccaaagtccaattggcatttcgaagactcgggtccaaagtccaatttggtcgggttttctgctcccagccagtcatagtctccccccacgaagagcccccctcggccgcactccacgccccgcgtgcttacagatggtgtctgtaccgagaagaagagagcgcaacgtactcttttaactctcgcgctctccatcttccacatgcactttcggctccacattgtttacctttggagcactcccttaagtgcgctcttgagacgctcttaagcggaggtaaagtagagaacaggtgtagattcactctacacgtgctcattaagaaatgttgtttaactaccgaaaaaacaaacaaattttaaaccattattggttcttattcatagtagagatctaagaattagccaaataataaacaaatgcctcgaaatgacccccttaatttagtacaaataactattaatagtctcaatgcaactgcagtttccccattaaattgctcgatgcgaaaatgtaaacctatcccaagactcatcataaaaaactgaaataaaagcacgtgcaaatatgggcgtaattttggtcagtgattttacgagccatagtaaaaaccccaatatggtcagcaaataacccataatgaatacatacatatacatatgtaccttgttcgcgatattacgaaatgcattatggcatacaatcaagaagggtacttttgtcactttttctgctgcgggggagactcgcaaatttgtatgggaattacgaaagtatcggttatgtcagaattagtggagcttggagcttggagctcggcttcgcggtttatttgccattgtggggctgaaagtaagttcacgtttcgcatttagcaggcggcggcgattcgctttcgtgtttcatttaattttagcgaaatccacaaaagtggactttgcacttgacagcgacgattttctgtatttcagctggtgtattttcgtctgatttttttttcttttttttttgtcattttctgcggtgaatgaatgtttgcgcttctattccgcctgttgccacgttttgctctccaaccccgaaataaatcgaaaaagtctactgaattatatcggtgagcacaacttgttgaattgaatgtgctgcgtgaattatttgtggctataggaaactggttagaataaagtgtagctacatagttactactagatgtgtctgattttgccccctaaaaatcagtcgattttcgaattagttgcaaaaaccaaatagttgcaacattgcgcgcctaataacgaaaataacgtgctgtttgcttgcataagctacattgttcaacaataataggcttttgtttattgattttaaagagacggaacatgggctcgaaaaccaaatcaatttctcgctccagagttatttgtttatttacggagcacacagttgtttgaaaactttatgcgtacaacgaccctgagaaatgcttaaatatttctgaatatttcgaaatctaattgaaaaggcatacgcatttatgcgccatctggcattttacttgccacccacccgctgattatccaaattctgattctgcggaaaatgcgtggcacgagatttgtgctattacgccgggcaaaaggaaaagctctcgagaggcttcattagattcgctctttggcggctgtcaatggcaacccaccacattgcccaactcaagacctcactttcagtgttcagtgccatccatccatttcacggattcccccatttgtgccacgaatccaagggcttcggcttccgttcccagggctgaacatcgaattcttggtcggttgtctggcaaccgttgctaagctgccacgccttctgcccccccgaatcgagtggcatgtaaattgatctgcgcacttgattaattaattgcgttcgacttgaagccgctggagcagtgcaaaccgcaactgccgccagcatctgtcgtcttaattagtccaacgtgttcttcgagtggcttcgctctgcgaatccagtttcaatgagaggatgtcctttgctcaaggcgaaacttgcagggcttccaggacacttcattgccaaggcagcactttgagcacagagcaataggtccccggaaagaatgatctaaaaaatgaaaaggaaagcgcctcgaagtatgccataataatcttcactcttagcttaacttaaacaccaaaaacatggtaatttgtaaaccctaatgaacaccaagctggccaaacaacagaagcgaaaaacataacaaattgactcaaatttcactgtaatggctaataattcttactcataagtttaaacatccctaccgcattttcccgcgtgttttttttttcctttcatgcggtttcgcctaattggaaatgggggaaaagcgtaaaaatgtgcgaaggcgttgatgcgtgagcaacttgttgccttggctaacgcagacactcggaaatgcggatacctcattatgcaaagtgctgcaggagcgagaatgtgtatatacttgggggaatttgggggggtgtatttaaagtcggatgttcacaaaatacgggcttttcgtcttcttttgttttgaggtttgcaaatttcatttcatcggcgacagcgaatgcaacttgcctttggggcattggggaattgcaattggtattggtattggcattggcattggctggcaaagtgtggtgttgtgtggccaacaaacgacggacaagcaaccaacatcgtcatcgtcagtggcattattatggagcacataaggatgttgttttgccaagagatgcgctgccagcatttgagctcgttccattcgaaatgatgacatgctcgttgcataagcaaatatttctgaaaa\u001b[1m\u001b[32mCCACGGCA\u001b[0mtcagtaaggcgattgccgccagtcaaacccactttacagccacatgcgcagtcacccacccacatttcccaatccatccacttgccactggcagttgttgctgctgctgctgcggatgttgccgctgtcatggcgaaatgttggcagatagtcatgccacacaggacatgcttttggctcgggctctgctggttcaggccgcgtgtcgctgacaggctctgtcaagctgaattgataagtcgctgatccagaatagattgaaaaacatttagattaagctttaattcgccgcagttgcgagacaatggaaagtcatttagctcagacaatgagtagaaaagtgcccaactgacctacattatacatagatatatcccaagttgtacagctcataaacatccttgcaatggcaacatgactaaccacccatatcctttgcttgcag\n",
      "\n",
      "42 binding scores\n",
      "\n",
      "['TGTCGTCG: 120', 'TGACGTCA: 124', 'GGACGTGA: 120', 'TGACTTCG: 120', 'TGCCGTGA: 120', 'TGTCGTCG: 120', 'TGATGTGG: 136', 'TGACGTTG: 138', 'TGACTTGG: 136', 'TGATGTCG: 120', 'TGACGTTG: 138', 'TGACGTTG: 138', 'TGACGTCT: 122', 'TGTCGTGA: 120', 'TGTCGTGA: 120', 'TGACTTCG: 120', 'TGAAGTCG: 120', 'GGACGTGA: 120', 'TGAAGTGA: 120', 'TGCCGTGG: 136', 'TCACGTCG: 120', 'TGACGTTG: 138', 'AGACGTCG: 120', 'TGACGTCA: 124', 'CCACTTCA: 136', 'TGACGTCA: 124', 'TCACGACA: 120', 'CGATGTCA: 120', 'TCAAGTCA: 120', 'TCACGTCT: 120', 'TCGCGTCA: 120', 'CGACGTCC: 120', 'GAACGTCA: 120', 'CGACTTCA: 120', 'TCACGTCT: 120', 'GGACGTCA: 122', 'CCACCTCA: 136', 'CGACGGCA: 120', 'TCACGTCG: 120', 'TCACGTCA: 140', 'TGACGTCA: 124', 'CCACGGCA: 136']\n",
      "\n",
      "\u001b[34m\u001b[5mGene:  Cnx99A\n"
     ]
    },
    {
     "data": {
      "image/png": "[encoded data removed]",
      "text/plain": [
       "<Figure size 432x288 with 1 Axes>"
      ]
     },
     "metadata": {
      "needs_background": "light"
     },
     "output_type": "display_data"
    },
    {
     "name": "stdout",
     "output_type": "stream",
     "text": [
      "\n",
      "ggtgagtagttggtccgacgatgcggttcgtaagataaaaaaaacgagagaaaaaagt\u001b[1m\u001b[32mACACGTCA\u001b[0mgtggaagctactagaagaaaaggcgaaacgctattgctgtgagggtaggggaaggtggttgtgggggaggggggtgttggtgcggccggcttcttcgctttatgacccacaattagcatgcgagtgtgtctcacttttccagcaacaaatccgaatgcgagggaaaataaaactgtttaccaacaga\u001b[1m\u001b[32mCGAGGTCA\u001b[0magcagatagcaactccccatggcagcaccaagaatgcgctaatctgttgctccacaggttacatcagaggtttattgagcagagcttctatttaacgtgcttgtttctctagaaattatgccagtcatttatgtttctaggggagttactgctacagatgaggtcaagctaagagcaacataaaacatgttattatatagctataactagtctggcgggcccaggtgtagcgctctccaattcaaacccatgctggccacccatctttctctccctctctttatcactttccccactgacaaccgcgtgcttcggattttatggcaccttatctaatgtttccacatatgctttgcag\n",
      "\n",
      "2 binding scores\n",
      "\n",
      "['ACACGTCA: 138', 'CGAGGTCA: 120']\n",
      "\n",
      "\u001b[34m\u001b[5mGene:  ninaE\n"
     ]
    },
    {
     "data": {
      "image/png": "[encoded data removed]",
      "text/plain": [
       "<Figure size 432x288 with 1 Axes>"
      ]
     },
     "metadata": {
      "needs_background": "light"
     },
     "output_type": "display_data"
    },
    {
     "name": "stdout",
     "output_type": "stream",
     "text": [
      "\n",
      "gtacgatcggtggatccactggatgttctggttagcaatttaacatttgcttcggtgttgcag\n",
      "\n",
      "0 binding scores\n",
      "\n",
      "[]\n",
      "\n",
      "\u001b[34m\u001b[5mHighest Scores:\u001b[31m\n",
      "\n",
      "['dnr1', 140, 'Cnx99A', 138]\n"
     ]
    }
   ],
   "source": [
    "## imports for formatting \n",
    "from termcolor import colored \n",
    "from colorama import Fore\n",
    "from colorama import Style\n",
    "from matplotlib import pyplot\n",
    "import re\n",
    "print(Fore.YELLOW + '\\033[5m' + 'RESULTS' + '\\n')\n",
    "## goes through DNA sequences in data frame and analyzes each\n",
    "bestscores = []\n",
    "print('\\n' + Fore.RED + '\\033[5m')\n",
    "for i in range(len(dna_sequences.intron)):\n",
    "    ## accesses sequences from spreadsheet \n",
    "    DNA = dna_sequences.intron[i].lower()\n",
    "    gene = dna_sequences.gene[i]\n",
    "    print('\\n' + Fore.BLUE + '\\033[5m' + 'Gene: ', gene)\n",
    "    ## reads DNA sequence, creates scores for each\n",
    "    def transcription_factor (seq, profile):\n",
    "        width = len(profile['T'])\n",
    "        bindingscore = []\n",
    "        for i in range(len(seq)-width):\n",
    "            score = 0\n",
    "            for j in range(width):\n",
    "                letter = seq[i+j]\n",
    "                score += profile[letter][j]\n",
    "            bindingscore.append (score)\n",
    "        return bindingscore\n",
    "    ## max binding score etc \n",
    "    upperseq = DNA.upper()\n",
    "    bindingscores = transcription_factor(upperseq, profile)\n",
    "    max_binding_list = []\n",
    "    for i in range(len(profile['A'])):\n",
    "        my_list = []\n",
    "        my_list.append(profile['A'][i])\n",
    "        my_list.append(profile['C'][i])\n",
    "        my_list.append(profile['G'][i])\n",
    "        my_list.append(profile['T'][i])\n",
    "        max_binding_list.append(max(my_list))\n",
    "    max_score = sum(max_binding_list)\n",
    "    sites = []\n",
    "    scores = []\n",
    "    pairs = []\n",
    "    ## presents binding site information \n",
    "    for i in range (len(bindingscores)):\n",
    "        if bindingscores[i] > 0.76 * max_score: \n",
    "            sequence = DNA[i:i + len(profile['A'])]\n",
    "            sites.append(sequence)\n",
    "            pair = sequence.upper() + ': ' + str(bindingscores[i])\n",
    "            pairs.append(str(pair))\n",
    "            number = bindingscores[i]\n",
    "            scores.append(number)\n",
    "    ## attempting to scan newDNA to put in the revcomp transcription factor binding sites as well \n",
    "    revcompbindingscores = transcription_factor (upperseq, profilerevcomp)\n",
    "    bindingscoresboth = bindingscores + revcompbindingscores\n",
    "    pyplot.plot (bindingscoresboth)\n",
    "    pyplot.ylim (0.76 * max_score, max_score)\n",
    "    pyplot.show()\n",
    "    for i in range (len(revcompbindingscores)):\n",
    "        if revcompbindingscores[i] > 0.76 * max_score: \n",
    "            sequence = DNA[i:i + len(profile['A'])]\n",
    "            sites.append(sequence)\n",
    "            pair = sequence.upper() + ': ' + str(revcompbindingscores[i])\n",
    "            pairs.append(str(pair))\n",
    "            number = revcompbindingscores[i]\n",
    "            scores.append(number)\n",
    "    ## the function and loop below should accurately replace all revcomp binding sites with their capital counterpart\n",
    "    newdict = {}\n",
    "    for i in range (len(sites)):\n",
    "        d1 = {str(i): sites[i].upper()}\n",
    "        newdict.update(d1)\n",
    "    def replace_all(text, dic):\n",
    "        for i, j in zip(range (len(sites)), dic.values()):\n",
    "            text = text.replace(sites[i], colored(str(j), 'green', attrs=['bold']))\n",
    "            ## check more thoroughly that this works\n",
    "        return text\n",
    "    newDNA = replace_all(DNA, newdict)\n",
    "    print('\\n' + newDNA)\n",
    "    ## presents binding scores for both original and revcomp \n",
    "    print('\\n' + str(len(sites)) + ' binding scores' + '\\n')\n",
    "    print(pairs)\n",
    "    sortedscores = sorted(scores, reverse = True)\n",
    "    if len(sortedscores) > 0:\n",
    "        bestscores.append(gene)\n",
    "        highestscore = max(sortedscores)\n",
    "        bestscores.append(highestscore)\n",
    "print('\\n' + Fore.BLUE + '\\033[5m' + 'Highest Scores:' + Fore.RED + '\\n')\n",
    "print(bestscores)"
   ]
  },
  {
   "cell_type": "code",
   "execution_count": null,
   "metadata": {},
   "outputs": [],
   "source": []
  }
 ],
 "metadata": {
  "kernelspec": {
   "display_name": "Python 3",
   "language": "python",
   "name": "python3"
  },
  "language_info": {
   "codemirror_mode": {
    "name": "ipython",
    "version": 3
   },
   "file_extension": ".py",
   "mimetype": "text/x-python",
   "name": "python",
   "nbconvert_exporter": "python",
   "pygments_lexer": "ipython3",
   "version": "3.7.4"
  }
 },
 "nbformat": 4,
 "nbformat_minor": 2
}
