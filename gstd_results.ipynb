{
 "cells": [
  {
   "cell_type": "code",
   "execution_count": 1,
   "metadata": {
    "scrolled": false
   },
   "outputs": [
    {
     "name": "stdout",
     "output_type": "stream",
     "text": [
      "gstd1.csv\n"
     ]
    },
    {
     "data": {
      "text/html": [
       "<div>\n",
       "<style scoped>\n",
       "    .dataframe tbody tr th:only-of-type {\n",
       "        vertical-align: middle;\n",
       "    }\n",
       "\n",
       "    .dataframe tbody tr th {\n",
       "        vertical-align: top;\n",
       "    }\n",
       "\n",
       "    .dataframe thead th {\n",
       "        text-align: right;\n",
       "    }\n",
       "</style>\n",
       "<table border=\"1\" class=\"dataframe\">\n",
       "  <thead>\n",
       "    <tr style=\"text-align: right;\">\n",
       "      <th></th>\n",
       "      <th>gene</th>\n",
       "      <th>upstream</th>\n",
       "    </tr>\n",
       "  </thead>\n",
       "  <tbody>\n",
       "    <tr>\n",
       "      <td>0</td>\n",
       "      <td>gstd1</td>\n",
       "      <td>gagcccacttttataggggccggctgtggtcgccacaatgccggca...</td>\n",
       "    </tr>\n",
       "  </tbody>\n",
       "</table>\n",
       "</div>"
      ],
      "text/plain": [
       "    gene                                           upstream\n",
       "0  gstd1  gagcccacttttataggggccggctgtggtcgccacaatgccggca..."
      ]
     },
     "execution_count": 1,
     "metadata": {},
     "output_type": "execute_result"
    }
   ],
   "source": [
    "## most up to date version of code that scans for forward and reverse binding sites\n",
    "## imports the table of genes\n",
    "import numpy as np\n",
    "import pandas as pd\n",
    "dna_sequences = pd.read_csv(input(), delimiter=',')\n",
    "dna_sequences"
   ]
  },
  {
   "cell_type": "code",
   "execution_count": 5,
   "metadata": {
    "scrolled": true
   },
   "outputs": [
    {
     "name": "stdout",
     "output_type": "stream",
     "text": [
      "Input transcription factor name\n",
      "xrp1\n",
      "Enter position frequency matrix scores for A in the format 3 4 5:\n",
      "0.252 0.178 0.468 0.001 0.001 0.590 0.997 0.997 0.082 0.305\n",
      "Enter position frequency matrix scores for C in the format 3 4 5:\n",
      "0.046 0.089 0.001 0.560 0.001 0.275 0.001 0.001 0.213 0.287\n",
      "Enter position frequency matrix scores for G in the format 3 4 5:\n",
      "0.078 0.344 0.362 0.011 0.997 0.001 0.001 0.001 0.001 0.176\n",
      "Enter position frequency matrix scores for T in the format 3 4 5:\n",
      "0.624 0.389 0.169 0.428 0.001 0.134 0.001 0.001 0.704 0.232\n"
     ]
    }
   ],
   "source": [
    "## choses dictionary with pfm for code \n",
    "print('Input transcription factor name')\n",
    "factor = input()\n",
    "if factor.upper() == 'ATF4':\n",
    "    profile = {'A': [210, 169, 639, 0, 19, 888, 2, 1, 40, 879, 888, 0, 414], 'C': [71, 117, 202, 0, 0, 0, 372, 0, 838, 21, 3, 266, 272], 'G': [442, 409, 127, 7, 1090, 0, 9, 1104, 16, 0, 1, 62, 101], 'T': [170, 213, 3, 981, 11, 25, 470, 4, 113, 3, 4, 714, 78]}\n",
    "    ## make revcomp profile\n",
    "elif factor.upper() == 'XBP1':\n",
    "    profile = {'A': [4396, 3270, 1104, 974, 3699, 167, 7840, 9, 52, 0, 380, 8004, 230, 989], 'C': [558, 1017, 1191, 367, 3809, 7169, 17, 7356, 0, 16, 7264, 48, 2273, 6313], 'G': [801, 2413, 2669, 9168, 59, 222, 276, 2, 11353, 8, 47, 173, 3157, 1217], 'T': [2467, 1780, 3999, 2321, 247, 442, 118, 10, 10, 9107, 35, 92, 6389, 1250]}\n",
    "    ## make revcomp profile\n",
    "elif factor.upper() =='ATF6':\n",
    "    profile = {'A': [0, 0, 20, 0, 0, 0, 0, 2], 'C': [0, 0, 0, 20, 0, 0, 2, 0], 'G': [0, 20, 0, 0, 20, 0, 18, 18], 'T': [20, 0, 0, 0, 0, 20, 0, 0]}\n",
    "    ## testing out revcomp profile because comp profile actually won't work right?\n",
    "    profilerevcomp = {'T': [2, 0, 0, 0, 0, 20, 0, 0], 'G': [0, 2, 0, 0, 20, 0, 0, 0], 'C': [18, 18, 0, 20, 0, 0, 20, 0], 'A': [0, 0, 20, 0, 0, 0, 0, 20]}\n",
    "## allows user to input transcription factor \n",
    "else:\n",
    "    print('Enter position frequency matrix scores for A in the format 3 4 5:')\n",
    "    item1 = [float(x) for x in input().split()]\n",
    "    print('Enter position frequency matrix scores for C in the format 3 4 5:')\n",
    "    item2 = [float(x) for x in input().split()]\n",
    "    print('Enter position frequency matrix scores for G in the format 3 4 5:')\n",
    "    item3 = [float(x) for x in input().split()]\n",
    "    print('Enter position frequency matrix scores for T in the format 3 4 5:')\n",
    "    item4 = [float(x) for x in input().split()]\n",
    "    profile = {'A':item1, 'C': item2, 'G': item3, 'T': item4}\n",
    "    ## test if the following line of code works to get a rev comp profile: \n",
    "    profilerevcomp = {'T':item1[::-1], 'G': item2[::-1], 'C': item3[::-1], 'A': item4[::-1]}\n",
    "    "
   ]
  },
  {
   "cell_type": "code",
   "execution_count": 8,
   "metadata": {
    "scrolled": false,
    "slideshow": {
     "slide_type": "-"
    }
   },
   "outputs": [
    {
     "name": "stdout",
     "output_type": "stream",
     "text": [
      "\u001b[33m\u001b[5mRESULTS\n",
      "\n",
      "\n",
      "\u001b[31m\u001b[5m\n",
      "\n",
      "\u001b[34m\u001b[5mGene:  gstd1\n"
     ]
    },
    {
     "data": {
      "image/png": "[encoded data removed]",
      "text/plain": [
       "<Figure size 432x288 with 1 Axes>"
      ]
     },
     "metadata": {
      "needs_background": "light"
     },
     "output_type": "display_data"
    },
    {
     "name": "stdout",
     "output_type": "stream",
     "text": [
      "\n",
      "gagcccacttttataggggccggctgtggtcgccacaatgccggcaaacaagagttgtagcttgaagcgccccgcggggcgtggcaaggtggggagagaggtacagagagagagagagggggctgctagttgttgtcgtgcctgggttttttttttgtcttctattatattctgacttgcccacacatacccactaatggcgggcaaaaatgtgacgttagcggcgtgattaatacactgttgtgtggccatgggtgtgtggagacgattgatagtgtgtgtgtgcgtgctctggaggaggttgcactctatccgttccctcatacacctccaccatacccccgcaaaagaaagctgcaactttctaatgatcctccattggaacgaagccttttactcgcttaagaacaaattttgttacatttctttataatttctgattttaacaaacagataacaaagaagatacaatcctgccatacaggtattattaatcgtagggtatttacacatcgacttgctaagattagcaaacacataagcatgcaatcgattagcttgaaacacaattttgcatttctaatgaacatctgtgcgcctgaaaaaacataaattcttttaaaatgcaaaaaaaaataagtacaaacaaataagcaggcaaacagaaaccagataagaattcaagccggccggcaaacattgatatcaggcaaacatatatgtatgtatgtacatatgtacatatatagcaacagttgtcgagtatttccaacacacaagcaaatcgcgaaaggctcataccgtactaataagaccataaaaatataaccgtttttcgaattattcaatatactttgactcatagtaataattttaatgggtaagcccaagctatggtagacaaatagtagtagattaaatgatgagtcaaaggcacatgcaaattcgaaattactggtacacattttcaatgtaacaatatggatgggcttagtccatatatcgatcgacttttattgtttgtgtttgttatgacggccttgggttttaataagtaattgctgtgaccatataacatgaaaaggaatactagactttcatttcttggaagtatttgatactatcaaaggcgaacacttgaatattcctgctacacttcgctgggggtatttaatttccccaaaacaaattcgcttttatcagtttcacaattcgcaataccaactatcagcatgaccgggcaaaaaaattcaataacaagtaggaaaaaatggaaagagcattttcgtgggcgacacgtcaaacaaattgcgctcttaacgtcgagaacaatccacaaaacga\u001b[1m\u001b[32mTTGTGAAATC\u001b[0maaaaattccgaaccccaagttccgagagttactcatttgaacataatgccgaaatccagctgaatcatgggaaacacgagatcgtaagtataagttcgccaataactggttgggttaattcaccaaaaagccggcccaaaaggtagcgtaaaatgtagagaaaggtcactgtgtttgccactgcagatcaaaaaaaccagttggacggcattgccaaatgtgcgtcacaggaaaataaagtgaaaagcgcaaactatttaaagagcaaagccaaagagaatggataggacgaagagccccaataatctcttacctccacatcatcgagatcttctgccggcctcccatatgagcacatttagcctacatacatctactttctcgattccgtttgccggtgattcgctttgtgtacagctgcgctgatctttctccgatctccgctttagaatacatattataccataaaactgaatatgttcaagtttagattgatatataaaaaagtaataaattattattattaaatttatgaagatctggggtgtgtccacatgtactcttacttccatatgacggcttgaacatacttttgaacatatttttcgaaatgtcaacaaaaaatgttgaaaatttttcctgttcttccacttgttttctcttgttcttattgaagtttgatttttaacatttaaaaaaccttcgtatgcatttgatttaatgaatcctctttgttttaattattttgctcggagcactataaaaacagaaattaaaatatcgatatatttatatataaacatataatataatatgattaccatatccgttactcagctagtgtgaatgtgaacgcga\u001b[1m\u001b[32mAATTTCATCA\u001b[0mtttttcatttttcattttctttttttgtttactacaataatacaattcatatataacacctttaagctattt\u001b[1m\u001b[32mTATTTCATCA\u001b[0mccctttgtttgctgcctgtagtgtatggtaccaattttgtgactcatggaagtttacttatttaaatcgctccattccccttacgataaccatctaatcatacaaactagcataagctcgaacagaagtatacacattatgcacttgaaattatcattagcgctttcgtggcaccccttattagtcataatatgtacatacctcaaaaccgaaaagaacaaaagtttgaaaaagtttattctagccatgactggcattttttccaattgcaagacaaacaaaccacgcaagcataagcaaatgggtggagataattggtcgagcatttccctataaaagaaattaggtttactgggaattgtcaggcgtagttcagcactcagcaggttaacaacc \n",
      "\n",
      "3 binding scores\n",
      "\n",
      "['TTGTGAAATC: 6.374999999999999', 'AATTTCATCA: 6.380999999999999', 'TATTTCATCA: 6.454']\n",
      "\n",
      "\u001b[34m\u001b[5mHighest Scores:\u001b[31m\n",
      "\n",
      "['gstd1', 6.454]\n"
     ]
    }
   ],
   "source": [
    "## imports for formatting \n",
    "from termcolor import colored \n",
    "from colorama import Fore\n",
    "from colorama import Style\n",
    "from matplotlib import pyplot\n",
    "import re\n",
    "print(Fore.YELLOW + '\\033[5m' + 'RESULTS' + '\\n')\n",
    "## goes through DNA sequences in data frame and analyzes each\n",
    "bestscores = []\n",
    "print('\\n' + Fore.RED + '\\033[5m')\n",
    "## manually change 'intron' or 'gene' to the heading of the column in the spreadsheet that you want to look at\n",
    "for i in range(len(dna_sequences.upstream)):\n",
    "    ## accesses sequences from spreadsheet \n",
    "    DNA = dna_sequences.upstream[i].lower()\n",
    "    gene = dna_sequences.gene[i]\n",
    "    print('\\n' + Fore.BLUE + '\\033[5m' + 'Gene: ', gene)\n",
    "    ## reads DNA sequence, creates scores for each\n",
    "    def transcription_factor (seq, profile):\n",
    "        width = len(profile['T'])\n",
    "        bindingscore = []\n",
    "        for i in range(len(seq)-width):\n",
    "            score = 0\n",
    "            for j in range(width):\n",
    "                letter = seq[i+j]\n",
    "                score += profile[letter][j]\n",
    "            bindingscore.append (score)\n",
    "        return bindingscore\n",
    "    ## max binding score etc \n",
    "    upperseq = DNA.upper()\n",
    "    bindingscores = transcription_factor(upperseq, profile)\n",
    "    max_binding_list = []\n",
    "    for i in range(len(profile['A'])):\n",
    "        my_list = []\n",
    "        my_list.append(profile['A'][i])\n",
    "        my_list.append(profile['C'][i])\n",
    "        my_list.append(profile['G'][i])\n",
    "        my_list.append(profile['T'][i])\n",
    "        max_binding_list.append(max(my_list))\n",
    "    max_score = sum(max_binding_list)\n",
    "    sites = []\n",
    "    scores = []\n",
    "    pairs = []\n",
    "    ## presents binding site information \n",
    "    for i in range (len(bindingscores)):\n",
    "        if bindingscores[i] > 0.95 * max_score: \n",
    "            sequence = DNA[i:i + len(profile['A'])]\n",
    "            sites.append(sequence)\n",
    "            pair = sequence.upper() + ': ' + str(bindingscores[i])\n",
    "            pairs.append(str(pair))\n",
    "            number = bindingscores[i]\n",
    "            scores.append(number)\n",
    "    ## attempting to scan newDNA to put in the revcomp transcription factor binding sites as well \n",
    "    revcompbindingscores = transcription_factor (upperseq, profilerevcomp)\n",
    "    bindingscoresboth = bindingscores + revcompbindingscores\n",
    "    pyplot.plot (bindingscoresboth)\n",
    "    pyplot.ylim (0.95 * max_score, max_score)\n",
    "    pyplot.show()\n",
    "    for i in range (len(revcompbindingscores)):\n",
    "        if revcompbindingscores[i] > 0.95 * max_score: \n",
    "            sequence = DNA[i:i + len(profile['A'])]\n",
    "            sites.append(sequence)\n",
    "            pair = sequence.upper() + ': ' + str(revcompbindingscores[i])\n",
    "            pairs.append(str(pair))\n",
    "            number = revcompbindingscores[i]\n",
    "            scores.append(number)\n",
    "    ## the function and loop below should accurately replace all revcomp binding sites with their capital counterpart\n",
    "    newdict = {}\n",
    "    for i in range (len(sites)):\n",
    "        d1 = {str(i): sites[i].upper()}\n",
    "        newdict.update(d1)\n",
    "    def replace_all(text, dic):\n",
    "        for i, j in zip(range (len(sites)), dic.values()):\n",
    "            text = text.replace(sites[i], colored(str(j), 'green', attrs=['bold']))\n",
    "            ## check more thoroughly that this works\n",
    "        return text\n",
    "    newDNA = replace_all(DNA, newdict)\n",
    "    print('\\n' + newDNA)\n",
    "    ## presents binding scores for both original and revcomp \n",
    "    print('\\n' + str(len(sites)) + ' binding scores' + '\\n')\n",
    "    print(pairs)\n",
    "    sortedscores = sorted(scores, reverse = True)\n",
    "    if len(sortedscores) > 0:\n",
    "        bestscores.append(gene)\n",
    "        highestscore = max(sortedscores)\n",
    "        bestscores.append(highestscore)\n",
    "print('\\n' + Fore.BLUE + '\\033[5m' + 'Highest Scores:' + Fore.RED + '\\n')\n",
    "print(bestscores)"
   ]
  },
  {
   "cell_type": "code",
   "execution_count": null,
   "metadata": {},
   "outputs": [],
   "source": []
  }
 ],
 "metadata": {
  "kernelspec": {
   "display_name": "Python 3",
   "language": "python",
   "name": "python3"
  },
  "language_info": {
   "codemirror_mode": {
    "name": "ipython",
    "version": 3
   },
   "file_extension": ".py",
   "mimetype": "text/x-python",
   "name": "python",
   "nbconvert_exporter": "python",
   "pygments_lexer": "ipython3",
   "version": "3.7.4"
  }
 },
 "nbformat": 4,
 "nbformat_minor": 2
}
